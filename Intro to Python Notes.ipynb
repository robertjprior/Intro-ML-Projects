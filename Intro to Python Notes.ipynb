{
 "cells": [
  {
   "cell_type": "code",
   "execution_count": 2,
   "metadata": {},
   "outputs": [],
   "source": [
    "from collections import Counter\n",
    "?Counter()"
   ]
  },
  {
   "cell_type": "code",
   "execution_count": 9,
   "metadata": {},
   "outputs": [
    {
     "data": {
      "text/plain": [
       "[(22, 2), (25, 2), (24, 2), (30, 1), (26, 1), (35, 1)]"
      ]
     },
     "execution_count": 9,
     "metadata": {},
     "output_type": "execute_result"
    }
   ],
   "source": [
    "marriage_ages = [22, 22, 25, 25, 30, 24, 26, 24, 35]\n",
    "value_counts = Counter(marriage_ages)\n",
    "value_counts\n",
    "value_counts.most_common()\n",
    "#most_common just puts it in a better format that ranks it by most common"
   ]
  },
  {
   "cell_type": "code",
   "execution_count": null,
   "metadata": {},
   "outputs": [],
   "source": [
    "#use lambda in defining functions for just really simple functions\n",
    "print(22 in depths)\n",
    "#returns true/false if 22 is in the list depths\n",
    "#use .get at end of dictionary to put designated number as output if not in dictionary\n",
    "print(my_dict.get('company', 1))\n"
   ]
  },
  {
   "cell_type": "code",
   "execution_count": 6,
   "metadata": {},
   "outputs": [],
   "source": [
    "from collections import defaultdict"
   ]
  },
  {
   "cell_type": "code",
   "execution_count": 7,
   "metadata": {},
   "outputs": [
    {
     "name": "stdout",
     "output_type": "stream",
     "text": [
      "0\n"
     ]
    }
   ],
   "source": [
    "\n",
    "my_default_dict = defaultdict(int)\n",
    "my_default_dict['age'] = 22\n",
    "print(my_default_dict['company'])\n",
    "#will print 0 because made dict integers and even if something is missing in default dict it wont fail but will print 0"
   ]
  },
  {
   "cell_type": "code",
   "execution_count": null,
   "metadata": {},
   "outputs": [],
   "source": [
    "#in sorting, using sorted() put key=abs to make all the values absolute for the sort"
   ]
  },
  {
   "cell_type": "code",
   "execution_count": 13,
   "metadata": {},
   "outputs": [
    {
     "name": "stdout",
     "output_type": "stream",
     "text": [
      "Index: 0, Value: 5\n",
      "Index: 1, Value: 6\n",
      "Index: 2, Value: 7\n",
      "Index: 3, Value: 8\n",
      "Index: 4, Value: 9\n"
     ]
    }
   ],
   "source": [
    "#Enumerate\n",
    "\n",
    "\n",
    "i = 0 \n",
    "for i, x in enumerate(range(5, 10)):\n",
    "    print(\"Index: {0}, Value: {1}\".format(i,x))\n",
    "    \n",
    "#another use of dictionaries\n",
    "ds = ['a', 'b', 'c', 'd']\n",
    "x = ['has_{} 1'.format(d) for d in ds]\n",
    "    "
   ]
  },
  {
   "cell_type": "code",
   "execution_count": 18,
   "metadata": {},
   "outputs": [
    {
     "name": "stdout",
     "output_type": "stream",
     "text": [
      "{1: 'x', 2: 'y', 3: 'z'}\n"
     ]
    }
   ],
   "source": [
    "list_1 = [1, 2, 3]\n",
    "list_2 = ['x', 'y', 'z']\n",
    "x=zip(list_1, list_2)\n",
    "print(dict(x))"
   ]
  },
  {
   "cell_type": "code",
   "execution_count": 22,
   "metadata": {},
   "outputs": [
    {
     "name": "stdout",
     "output_type": "stream",
     "text": [
      "('x', 'y', 'z')\n",
      "(1, 2, 3)\n",
      "['x', 'y', 'z']\n"
     ]
    }
   ],
   "source": [
    "pairs = [('x', 1), ('y', 2), ('z', 3)]\n",
    "letters, numbers = zip(*pairs)\n",
    "print(letters)\n",
    "print(numbers)\n",
    "#OR\n",
    "test = [thing[0] for thing in pairs]\n",
    "print(test)\n"
   ]
  },
  {
   "cell_type": "code",
   "execution_count": null,
   "metadata": {},
   "outputs": [],
   "source": [
    "planets = ['Mercury', 'Venus', 'Earth', 'Mars', 'Jupiter', 'Saturn', 'Uranus', 'Neptune']\n",
    "planets.index('Earth')\n",
    "\n",
    "#to see all methods available\n",
    "help(planets)"
   ]
  },
  {
   "cell_type": "code",
   "execution_count": null,
   "metadata": {},
   "outputs": [],
   "source": [
    "#numpy uses arrays and matrices (which you have to tell numpy which format you are importing data as)"
   ]
  },
  {
   "cell_type": "code",
   "execution_count": null,
   "metadata": {},
   "outputs": [],
   "source": [
    "#use import to pull data from website (raw json data)"
   ]
  },
  {
   "cell_type": "code",
   "execution_count": null,
   "metadata": {},
   "outputs": [],
   "source": [
    "#if read.csv isn't working use the reading raw files section from lecture 3"
   ]
  },
  {
   "cell_type": "code",
   "execution_count": null,
   "metadata": {},
   "outputs": [],
   "source": [
    "names = []\n",
    "with open(\"../small_data/male_names.txt\", \"r\") as f:\n",
    "    for line in f:\n",
    "        tokens = line.split(\" \")\n",
    "        names.append(tokens[0])\n",
    "#makes a list of little lists but by doing it line by line, it takes first row and then tokens[0] is basically pulling out first item in each sublist (1st column)"
   ]
  },
  {
   "cell_type": "code",
   "execution_count": null,
   "metadata": {},
   "outputs": [],
   "source": [
    "#API\n",
    "subject = \"zoo\"\n",
    "api_url = \"http://openlibrary.org/subjects/{}.json\".format(subject)\n",
    "analysis_request = requests.get(api_url)\n",
    "analysis_dict = analysis_request.json()\n",
    "\n",
    "#in api url the {} just full in for whats put in the .format()"
   ]
  },
  {
   "cell_type": "code",
   "execution_count": null,
   "metadata": {},
   "outputs": [],
   "source": [
    "#web scarping (last resort)\n",
    "# anything that starts with < is a tag\n",
    "topic_list = [a.text for a in toc.find_all('a')]\n",
    "#the 'a' finds the tags that are a\n",
    "\n",
    "#in SQL section\n",
    "# * tells you everything like all columns"
   ]
  },
  {
   "cell_type": "code",
   "execution_count": null,
   "metadata": {},
   "outputs": [],
   "source": [
    "wd()"
   ]
  },
  {
   "cell_type": "code",
   "execution_count": null,
   "metadata": {},
   "outputs": [],
   "source": []
  }
 ],
 "metadata": {
  "kernelspec": {
   "display_name": "Python 3",
   "language": "python",
   "name": "python3"
  },
  "language_info": {
   "codemirror_mode": {
    "name": "ipython",
    "version": 3
   },
   "file_extension": ".py",
   "mimetype": "text/x-python",
   "name": "python",
   "nbconvert_exporter": "python",
   "pygments_lexer": "ipython3",
   "version": "3.7.1"
  }
 },
 "nbformat": 4,
 "nbformat_minor": 2
}
