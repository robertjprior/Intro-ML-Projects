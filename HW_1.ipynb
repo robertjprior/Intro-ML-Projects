{
 "cells": [
  {
   "cell_type": "code",
   "execution_count": 43,
   "metadata": {},
   "outputs": [
    {
     "data": {
      "text/plain": [
       "'/Users/mikepriorusa/Desktop/ML Class'"
      ]
     },
     "execution_count": 43,
     "metadata": {},
     "output_type": "execute_result"
    }
   ],
   "source": [
    "import pandas as pd\n",
    "import os\n",
    "os.getcwd()"
   ]
  },
  {
   "cell_type": "code",
   "execution_count": 7,
   "metadata": {},
   "outputs": [],
   "source": [
    "os.chdir('/Users/mikepriorusa/Desktop/ML Class')"
   ]
  },
  {
   "cell_type": "code",
   "execution_count": 8,
   "metadata": {},
   "outputs": [
    {
     "data": {
      "text/plain": [
       "'/Users/mikepriorusa/Desktop/ML Class'"
      ]
     },
     "execution_count": 8,
     "metadata": {},
     "output_type": "execute_result"
    }
   ],
   "source": []
  },
  {
   "cell_type": "code",
   "execution_count": 40,
   "metadata": {},
   "outputs": [],
   "source": [
    "import json"
   ]
  },
  {
   "cell_type": "code",
   "execution_count": 24,
   "metadata": {},
   "outputs": [],
   "source": [
    "with open(\"/Users/mikepriorusa/Desktop/ML Class/restuarant_data.json\", \"r\") as f:\n",
    "    json_data = json.loads(f.read())"
   ]
  },
  {
   "cell_type": "code",
   "execution_count": 29,
   "metadata": {},
   "outputs": [
    {
     "data": {
      "text/plain": [
       "list"
      ]
     },
     "execution_count": 29,
     "metadata": {},
     "output_type": "execute_result"
    }
   ],
   "source": [
    "type(json_data)"
   ]
  },
  {
   "cell_type": "code",
   "execution_count": 30,
   "metadata": {},
   "outputs": [],
   "source": [
    "#the start of json file download of population data\n",
    "import requests"
   ]
  },
  {
   "cell_type": "code",
   "execution_count": 35,
   "metadata": {},
   "outputs": [],
   "source": [
    "get_request = requests.get(\"http://api.population.io/1.0/population/2010/United%20States/?format=json\")"
   ]
  },
  {
   "cell_type": "code",
   "execution_count": 36,
   "metadata": {},
   "outputs": [
    {
     "data": {
      "text/plain": [
       "'[{\"females\": 1966000, \"country\": \"United States\", \"age\": 0, \"males\": 2054000, \"year\": 2010, \"total\": 4019000}, {\"females\": 1973000, \"country\": \"United States\", \"age\": 1, \"males\": 2056000, \"year\": 2010, \"total\": 4030000}, {\"females\": 1979000, \"country\": \"United States\", \"age\": 2, \"males\": 2059000, \"year\": 2010, \"total\": 4038000}, {\"females\": 1983000, \"country\": \"United States\", \"age\": 3, \"males\": 2061000, \"year\": 2010, \"total\": 4043000}, {\"females\": 1985000, \"country\": \"United States\", \"age\": 4, \"males\": 2063000, \"year\": 2010, \"total\": 4048000}, {\"females\": 1987000, \"country\": \"United States\", \"age\": 5, \"males\": 2066000, \"year\": 2010, \"total\": 4052000}, {\"females\": 1988000, \"country\": \"United States\", \"age\": 6, \"males\": 2069000, \"year\": 2010, \"total\": 4057000}, {\"females\": 1989000, \"country\": \"United States\", \"age\": 7, \"males\": 2073000, \"year\": 2010, \"total\": 4062000}, {\"females\": 1991000, \"country\": \"United States\", \"age\": 8, \"males\": 2079000, \"year\": 2010, \"total\": 4070000}, {\"females\": 1994000, \"country\": \"United States\", \"age\": 9, \"males\": 2086000, \"year\": 2010, \"total\": 4081000}, {\"females\": 1997000, \"country\": \"United States\", \"age\": 10, \"males\": 2094000, \"year\": 2010, \"total\": 4091000}, {\"females\": 1997000, \"country\": \"United States\", \"age\": 11, \"males\": 2099000, \"year\": 2010, \"total\": 4097000}, {\"females\": 2006000, \"country\": \"United States\", \"age\": 12, \"males\": 2114000, \"year\": 2010, \"total\": 4120000}, {\"females\": 2028000, \"country\": \"United States\", \"age\": 13, \"males\": 2142000, \"year\": 2010, \"total\": 4170000}, {\"females\": 2057000, \"country\": \"United States\", \"age\": 14, \"males\": 2177000, \"year\": 2010, \"total\": 4234000}, {\"females\": 2084000, \"country\": \"United States\", \"age\": 15, \"males\": 2211000, \"year\": 2010, \"total\": 4295000}, {\"females\": 2113000, \"country\": \"United States\", \"age\": 16, \"males\": 2245000, \"year\": 2010, \"total\": 4358000}, {\"females\": 2132000, \"country\": \"United States\", \"age\": 17, \"males\": 2267000, \"year\": 2010, \"total\": 4398000}, {\"females\": 2134000, \"country\": \"United States\", \"age\": 18, \"males\": 2269000, \"year\": 2010, \"total\": 4403000}, {\"females\": 2126000, \"country\": \"United States\", \"age\": 19, \"males\": 2258000, \"year\": 2010, \"total\": 4384000}, {\"females\": 2119000, \"country\": \"United States\", \"age\": 20, \"males\": 2247000, \"year\": 2010, \"total\": 4366000}, {\"females\": 2109000, \"country\": \"United States\", \"age\": 21, \"males\": 2234000, \"year\": 2010, \"total\": 4343000}, {\"females\": 2103000, \"country\": \"United States\", \"age\": 22, \"males\": 2220000, \"year\": 2010, \"total\": 4323000}, {\"females\": 2103000, \"country\": \"United States\", \"age\": 23, \"males\": 2208000, \"year\": 2010, \"total\": 4310000}, {\"females\": 2106000, \"country\": \"United States\", \"age\": 24, \"males\": 2196000, \"year\": 2010, \"total\": 4302000}, {\"females\": 2107000, \"country\": \"United States\", \"age\": 25, \"males\": 2183000, \"year\": 2010, \"total\": 4290000}, {\"females\": 2109000, \"country\": \"United States\", \"age\": 26, \"males\": 2168000, \"year\": 2010, \"total\": 4277000}, {\"females\": 2103000, \"country\": \"United States\", \"age\": 27, \"males\": 2151000, \"year\": 2010, \"total\": 4254000}, {\"females\": 2085000, \"country\": \"United States\", \"age\": 28, \"males\": 2129000, \"year\": 2010, \"total\": 4214000}, {\"females\": 2060000, \"country\": \"United States\", \"age\": 29, \"males\": 2105000, \"year\": 2010, \"total\": 4165000}, {\"females\": 2037000, \"country\": \"United States\", \"age\": 30, \"males\": 2083000, \"year\": 2010, \"total\": 4120000}, {\"females\": 2014000, \"country\": \"United States\", \"age\": 31, \"males\": 2062000, \"year\": 2010, \"total\": 4076000}, {\"females\": 1998000, \"country\": \"United States\", \"age\": 32, \"males\": 2045000, \"year\": 2010, \"total\": 4043000}, {\"females\": 1994000, \"country\": \"United States\", \"age\": 33, \"males\": 2034000, \"year\": 2010, \"total\": 4028000}, {\"females\": 1999000, \"country\": \"United States\", \"age\": 34, \"males\": 2029000, \"year\": 2010, \"total\": 4028000}, {\"females\": 2004000, \"country\": \"United States\", \"age\": 35, \"males\": 2025000, \"year\": 2010, \"total\": 4029000}, {\"females\": 2012000, \"country\": \"United States\", \"age\": 36, \"males\": 2023000, \"year\": 2010, \"total\": 4035000}, {\"females\": 2022000, \"country\": \"United States\", \"age\": 37, \"males\": 2028000, \"year\": 2010, \"total\": 4050000}, {\"females\": 2031000, \"country\": \"United States\", \"age\": 38, \"males\": 2044000, \"year\": 2010, \"total\": 4075000}, {\"females\": 2042000, \"country\": \"United States\", \"age\": 39, \"males\": 2068000, \"year\": 2010, \"total\": 4110000}, {\"females\": 2055000, \"country\": \"United States\", \"age\": 40, \"males\": 2091000, \"year\": 2010, \"total\": 4146000}, {\"females\": 2066000, \"country\": \"United States\", \"age\": 41, \"males\": 2114000, \"year\": 2010, \"total\": 4180000}, {\"females\": 2088000, \"country\": \"United States\", \"age\": 42, \"males\": 2142000, \"year\": 2010, \"total\": 4230000}, {\"females\": 2128000, \"country\": \"United States\", \"age\": 43, \"males\": 2175000, \"year\": 2010, \"total\": 4303000}, {\"females\": 2177000, \"country\": \"United States\", \"age\": 44, \"males\": 2209000, \"year\": 2010, \"total\": 4386000}, {\"females\": 2223000, \"country\": \"United States\", \"age\": 45, \"males\": 2241000, \"year\": 2010, \"total\": 4464000}, {\"females\": 2267000, \"country\": \"United States\", \"age\": 46, \"males\": 2270000, \"year\": 2010, \"total\": 4537000}, {\"females\": 2298000, \"country\": \"United States\", \"age\": 47, \"males\": 2290000, \"year\": 2010, \"total\": 4588000}, {\"females\": 2310000, \"country\": \"United States\", \"age\": 48, \"males\": 2296000, \"year\": 2010, \"total\": 4606000}, {\"females\": 2306000, \"country\": \"United States\", \"age\": 49, \"males\": 2291000, \"year\": 2010, \"total\": 4596000}, {\"females\": 2299000, \"country\": \"United States\", \"age\": 50, \"males\": 2281000, \"year\": 2010, \"total\": 4581000}, {\"females\": 2290000, \"country\": \"United States\", \"age\": 51, \"males\": 2269000, \"year\": 2010, \"total\": 4558000}, {\"females\": 2269000, \"country\": \"United States\", \"age\": 52, \"males\": 2242000, \"year\": 2010, \"total\": 4510000}, {\"females\": 2234000, \"country\": \"United States\", \"age\": 53, \"males\": 2196000, \"year\": 2010, \"total\": 4430000}, {\"females\": 2189000, \"country\": \"United States\", \"age\": 54, \"males\": 2137000, \"year\": 2010, \"total\": 4326000}, {\"females\": 2139000, \"country\": \"United States\", \"age\": 55, \"males\": 2074000, \"year\": 2010, \"total\": 4213000}, {\"females\": 2081000, \"country\": \"United States\", \"age\": 56, \"males\": 2004000, \"year\": 2010, \"total\": 4085000}, {\"females\": 2026000, \"country\": \"United States\", \"age\": 57, \"males\": 1936000, \"year\": 2010, \"total\": 3961000}, {\"females\": 1977000, \"country\": \"United States\", \"age\": 58, \"males\": 1875000, \"year\": 2010, \"total\": 3852000}, {\"females\": 1931000, \"country\": \"United States\", \"age\": 59, \"males\": 1818000, \"year\": 2010, \"total\": 3749000}, {\"females\": 1880000, \"country\": \"United States\", \"age\": 60, \"males\": 1757000, \"year\": 2010, \"total\": 3638000}, {\"females\": 1829000, \"country\": \"United States\", \"age\": 61, \"males\": 1696000, \"year\": 2010, \"total\": 3525000}, {\"females\": 1764000, \"country\": \"United States\", \"age\": 62, \"males\": 1623000, \"year\": 2010, \"total\": 3386000}, {\"females\": 1678000, \"country\": \"United States\", \"age\": 63, \"males\": 1530000, \"year\": 2010, \"total\": 3208000}, {\"females\": 1580000, \"country\": \"United States\", \"age\": 64, \"males\": 1426000, \"year\": 2010, \"total\": 3006000}, {\"females\": 1484000, \"country\": \"United States\", \"age\": 65, \"males\": 1324000, \"year\": 2010, \"total\": 2808000}, {\"females\": 1387000, \"country\": \"United States\", \"age\": 66, \"males\": 1221000, \"year\": 2010, \"total\": 2608000}, {\"females\": 1300000, \"country\": \"United States\", \"age\": 67, \"males\": 1133000, \"year\": 2010, \"total\": 2433000}, {\"females\": 1229000, \"country\": \"United States\", \"age\": 68, \"males\": 1070000, \"year\": 2010, \"total\": 2299000}, {\"females\": 1170000, \"country\": \"United States\", \"age\": 69, \"males\": 1023000, \"year\": 2010, \"total\": 2193000}, {\"females\": 1111000, \"country\": \"United States\", \"age\": 70, \"males\": 975000, \"year\": 2010, \"total\": 2086000}, {\"females\": 1054000, \"country\": \"United States\", \"age\": 71, \"males\": 930000, \"year\": 2010, \"total\": 1984000}, {\"females\": 1003000, \"country\": \"United States\", \"age\": 72, \"males\": 884000, \"year\": 2010, \"total\": 1887000}, {\"females\": 958000, \"country\": \"United States\", \"age\": 73, \"males\": 832000, \"year\": 2010, \"total\": 1790000}, {\"females\": 919000, \"country\": \"United States\", \"age\": 74, \"males\": 777000, \"year\": 2010, \"total\": 1696000}, {\"females\": 882000, \"country\": \"United States\", \"age\": 75, \"males\": 726000, \"year\": 2010, \"total\": 1607000}, {\"females\": 846000, \"country\": \"United States\", \"age\": 76, \"males\": 675000, \"year\": 2010, \"total\": 1521000}, {\"females\": 816000, \"country\": \"United States\", \"age\": 77, \"males\": 632000, \"year\": 2010, \"total\": 1447000}, {\"females\": 793000, \"country\": \"United States\", \"age\": 78, \"males\": 596000, \"year\": 2010, \"total\": 1389000}, {\"females\": 774000, \"country\": \"United States\", \"age\": 79, \"males\": 567000, \"year\": 2010, \"total\": 1340000}, {\"females\": 755000, \"country\": \"United States\", \"age\": 80, \"males\": 537000, \"year\": 2010, \"total\": 1292000}, {\"females\": 737000, \"country\": \"United States\", \"age\": 81, \"males\": 510000, \"year\": 2010, \"total\": 1247000}, {\"females\": 710000, \"country\": \"United States\", \"age\": 82, \"males\": 477000, \"year\": 2010, \"total\": 1186000}, {\"females\": 666000, \"country\": \"United States\", \"age\": 83, \"males\": 433000, \"year\": 2010, \"total\": 1099000}, {\"females\": 611000, \"country\": \"United States\", \"age\": 84, \"males\": 383000, \"year\": 2010, \"total\": 994000}, {\"females\": 557000, \"country\": \"United States\", \"age\": 85, \"males\": 336000, \"year\": 2010, \"total\": 893000}, {\"females\": 504000, \"country\": \"United States\", \"age\": 86, \"males\": 290000, \"year\": 2010, \"total\": 794000}, {\"females\": 451000, \"country\": \"United States\", \"age\": 87, \"males\": 246000, \"year\": 2010, \"total\": 697000}, {\"females\": 398000, \"country\": \"United States\", \"age\": 88, \"males\": 208000, \"year\": 2010, \"total\": 606000}, {\"females\": 347000, \"country\": \"United States\", \"age\": 89, \"males\": 173000, \"year\": 2010, \"total\": 521000}, {\"females\": 297000, \"country\": \"United States\", \"age\": 90, \"males\": 140000, \"year\": 2010, \"total\": 437000}, {\"females\": 247000, \"country\": \"United States\", \"age\": 91, \"males\": 108000, \"year\": 2010, \"total\": 355000}, {\"females\": 202000, \"country\": \"United States\", \"age\": 92, \"males\": 81100, \"year\": 2010, \"total\": 283000}, {\"females\": 164000, \"country\": \"United States\", \"age\": 93, \"males\": 61000, \"year\": 2010, \"total\": 225000}, {\"females\": 131000, \"country\": \"United States\", \"age\": 94, \"males\": 46300, \"year\": 2010, \"total\": 178000}, {\"females\": 101000, \"country\": \"United States\", \"age\": 95, \"males\": 33400, \"year\": 2010, \"total\": 134000}, {\"females\": 72700, \"country\": \"United States\", \"age\": 96, \"males\": 22700, \"year\": 2010, \"total\": 95400}, {\"females\": 50300, \"country\": \"United States\", \"age\": 97, \"males\": 14500, \"year\": 2010, \"total\": 64800}, {\"females\": 35000, \"country\": \"United States\", \"age\": 98, \"males\": 8730, \"year\": 2010, \"total\": 43700}, {\"females\": 25200, \"country\": \"United States\", \"age\": 99, \"males\": 4920, \"year\": 2010, \"total\": 30100}, {\"females\": 51200, \"country\": \"United States\", \"age\": 100, \"males\": 9570, \"year\": 2010, \"total\": 60800}]'"
      ]
     },
     "execution_count": 36,
     "metadata": {},
     "output_type": "execute_result"
    }
   ],
   "source": [
    "get_request.text"
   ]
  },
  {
   "cell_type": "code",
   "execution_count": 38,
   "metadata": {},
   "outputs": [],
   "source": [
    "popdata = json.loads(get_request.text)"
   ]
  },
  {
   "cell_type": "code",
   "execution_count": 47,
   "metadata": {},
   "outputs": [
    {
     "data": {
      "text/html": [
       "<div>\n",
       "<style scoped>\n",
       "    .dataframe tbody tr th:only-of-type {\n",
       "        vertical-align: middle;\n",
       "    }\n",
       "\n",
       "    .dataframe tbody tr th {\n",
       "        vertical-align: top;\n",
       "    }\n",
       "\n",
       "    .dataframe thead th {\n",
       "        text-align: right;\n",
       "    }\n",
       "</style>\n",
       "<table border=\"1\" class=\"dataframe\">\n",
       "  <thead>\n",
       "    <tr style=\"text-align: right;\">\n",
       "      <th></th>\n",
       "      <th>age</th>\n",
       "      <th>country</th>\n",
       "      <th>females</th>\n",
       "      <th>males</th>\n",
       "      <th>total</th>\n",
       "      <th>year</th>\n",
       "    </tr>\n",
       "  </thead>\n",
       "  <tbody>\n",
       "    <tr>\n",
       "      <th>0</th>\n",
       "      <td>0</td>\n",
       "      <td>United States</td>\n",
       "      <td>1966000</td>\n",
       "      <td>2054000</td>\n",
       "      <td>4019000</td>\n",
       "      <td>2010</td>\n",
       "    </tr>\n",
       "    <tr>\n",
       "      <th>1</th>\n",
       "      <td>1</td>\n",
       "      <td>United States</td>\n",
       "      <td>1973000</td>\n",
       "      <td>2056000</td>\n",
       "      <td>4030000</td>\n",
       "      <td>2010</td>\n",
       "    </tr>\n",
       "    <tr>\n",
       "      <th>2</th>\n",
       "      <td>2</td>\n",
       "      <td>United States</td>\n",
       "      <td>1979000</td>\n",
       "      <td>2059000</td>\n",
       "      <td>4038000</td>\n",
       "      <td>2010</td>\n",
       "    </tr>\n",
       "    <tr>\n",
       "      <th>3</th>\n",
       "      <td>3</td>\n",
       "      <td>United States</td>\n",
       "      <td>1983000</td>\n",
       "      <td>2061000</td>\n",
       "      <td>4043000</td>\n",
       "      <td>2010</td>\n",
       "    </tr>\n",
       "    <tr>\n",
       "      <th>4</th>\n",
       "      <td>4</td>\n",
       "      <td>United States</td>\n",
       "      <td>1985000</td>\n",
       "      <td>2063000</td>\n",
       "      <td>4048000</td>\n",
       "      <td>2010</td>\n",
       "    </tr>\n",
       "  </tbody>\n",
       "</table>\n",
       "</div>"
      ],
      "text/plain": [
       "   age        country  females    males    total  year\n",
       "0    0  United States  1966000  2054000  4019000  2010\n",
       "1    1  United States  1973000  2056000  4030000  2010\n",
       "2    2  United States  1979000  2059000  4038000  2010\n",
       "3    3  United States  1983000  2061000  4043000  2010\n",
       "4    4  United States  1985000  2063000  4048000  2010"
      ]
     },
     "execution_count": 47,
     "metadata": {},
     "output_type": "execute_result"
    }
   ],
   "source": [
    "popdataframe = pd.DataFrame(popdata)\n",
    "popdataframe.head()"
   ]
  },
  {
   "cell_type": "code",
   "execution_count": null,
   "metadata": {},
   "outputs": [],
   "source": []
  }
 ],
 "metadata": {
  "kernelspec": {
   "display_name": "Python 3",
   "language": "python",
   "name": "python3"
  },
  "language_info": {
   "codemirror_mode": {
    "name": "ipython",
    "version": 3
   },
   "file_extension": ".py",
   "mimetype": "text/x-python",
   "name": "python",
   "nbconvert_exporter": "python",
   "pygments_lexer": "ipython3",
   "version": "3.7.1"
  }
 },
 "nbformat": 4,
 "nbformat_minor": 2
}
