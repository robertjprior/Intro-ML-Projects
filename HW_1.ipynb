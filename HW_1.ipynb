{
 "cells": [
  {
   "cell_type": "code",
   "execution_count": 454,
   "metadata": {},
   "outputs": [
    {
     "data": {
      "text/plain": [
       "'/Users/mikepriorusa/Desktop/ML Class'"
      ]
     },
     "execution_count": 454,
     "metadata": {},
     "output_type": "execute_result"
    }
   ],
   "source": [
    "import pandas as pd\n",
    "import numpy as np\n",
    "import os\n",
    "os.getcwd()"
   ]
  },
  {
   "cell_type": "markdown",
   "metadata": {},
   "source": [
    "## JSON file"
   ]
  },
  {
   "cell_type": "markdown",
   "metadata": {},
   "source": [
    "#### Reading in the data"
   ]
  },
  {
   "cell_type": "code",
   "execution_count": null,
   "metadata": {},
   "outputs": [],
   "source": [
    "#setting the wd\n",
    "os.chdir('/Users/mikepriorusa/Desktop/ML Class')\n",
    "import json"
   ]
  },
  {
   "cell_type": "code",
   "execution_count": null,
   "metadata": {},
   "outputs": [],
   "source": [
    "#importing the json file\n",
    "with open(\"/Users/mikepriorusa/Desktop/ML Class/restuarant_data.json\", \"r\") as f:\n",
    "    json_data = json.loads(f.read())"
   ]
  },
  {
   "cell_type": "code",
   "execution_count": 173,
   "metadata": {},
   "outputs": [
    {
     "data": {
      "text/plain": [
       "479"
      ]
     },
     "execution_count": 173,
     "metadata": {},
     "output_type": "execute_result"
    }
   ],
   "source": [
    "#Looking at the end of the data\n",
    "len(json_data)"
   ]
  },
  {
   "cell_type": "code",
   "execution_count": 175,
   "metadata": {},
   "outputs": [
    {
     "data": {
      "text/plain": [
       "{'message': 'API limit exceeded', 'code': 440, 'status': ''}"
      ]
     },
     "execution_count": 175,
     "metadata": {},
     "output_type": "execute_result"
    }
   ],
   "source": [
    "#we know near the end of the data the format changes, will need to be careful in pulling the data b/c this might\n",
    "#prevent it from working\n",
    "json_data[478]"
   ]
  },
  {
   "cell_type": "code",
   "execution_count": 164,
   "metadata": {},
   "outputs": [
    {
     "data": {
      "text/plain": [
       "3"
      ]
     },
     "execution_count": 164,
     "metadata": {},
     "output_type": "execute_result"
    }
   ],
   "source": [
    "#Since length is different here, we can use this length of 3 to signify end of data\n",
    "len(json_data[478])"
   ]
  },
  {
   "cell_type": "code",
   "execution_count": null,
   "metadata": {},
   "outputs": [],
   "source": [
    "#testing format and returns\n",
    "print(json_data[0]['restaurants'][0]['restaurant']['average_cost_for_two'])\n",
    "\n"
   ]
  },
  {
   "cell_type": "code",
   "execution_count": 105,
   "metadata": {},
   "outputs": [
    {
     "data": {
      "text/plain": [
       "list"
      ]
     },
     "execution_count": 105,
     "metadata": {},
     "output_type": "execute_result"
    }
   ],
   "source": [
    "#testing format and returns\n",
    "type(json_data[0]['restaurants'])"
   ]
  },
  {
   "cell_type": "code",
   "execution_count": 176,
   "metadata": {},
   "outputs": [],
   "source": [
    "#pulling out the relevant data into a list of each restaurant and a sublist of relevant data for each restaurant\n",
    "#will break when the list has length less than 4 because its the end of the data\n",
    "restaurant_data = []\n",
    "\n",
    "for lists in json_data:\n",
    "    if len(lists) < 4:\n",
    "        break\n",
    "    for i in lists['restaurants']:\n",
    "        restaurant_appdata = [i['restaurant']['name'], i['restaurant']['user_rating']['aggregate_rating'],i['restaurant']['user_rating']['votes'], i['restaurant']['price_range'], i['restaurant']['location']['city'],i['restaurant']['location']['latitude'],i['restaurant']['location']['longitude']]\n",
    "        restaurant_data.append(restaurant_appdata)\n",
    "\n",
    "        \n",
    "    "
   ]
  },
  {
   "cell_type": "markdown",
   "metadata": {},
   "source": [
    "#### Cleaning the data"
   ]
  },
  {
   "cell_type": "code",
   "execution_count": 177,
   "metadata": {},
   "outputs": [],
   "source": [
    "json_titles = ['restaurant name', 'user rating', 'number of votes', 'price range', 'city', 'latitude', 'longitude']"
   ]
  },
  {
   "cell_type": "code",
   "execution_count": 184,
   "metadata": {},
   "outputs": [
    {
     "data": {
      "text/html": [
       "<div>\n",
       "<style scoped>\n",
       "    .dataframe tbody tr th:only-of-type {\n",
       "        vertical-align: middle;\n",
       "    }\n",
       "\n",
       "    .dataframe tbody tr th {\n",
       "        vertical-align: top;\n",
       "    }\n",
       "\n",
       "    .dataframe thead th {\n",
       "        text-align: right;\n",
       "    }\n",
       "</style>\n",
       "<table border=\"1\" class=\"dataframe\">\n",
       "  <thead>\n",
       "    <tr style=\"text-align: right;\">\n",
       "      <th></th>\n",
       "      <th>restaurant name</th>\n",
       "      <th>user rating</th>\n",
       "      <th>number of votes</th>\n",
       "      <th>price range</th>\n",
       "      <th>city</th>\n",
       "      <th>latitude</th>\n",
       "      <th>longitude</th>\n",
       "    </tr>\n",
       "  </thead>\n",
       "  <tbody>\n",
       "    <tr>\n",
       "      <th>0</th>\n",
       "      <td>Hauz Khas Social</td>\n",
       "      <td>4.3</td>\n",
       "      <td>7931</td>\n",
       "      <td>3</td>\n",
       "      <td>New Delhi</td>\n",
       "      <td>28.5542851000</td>\n",
       "      <td>77.1944706000</td>\n",
       "    </tr>\n",
       "    <tr>\n",
       "      <th>1</th>\n",
       "      <td>Qubitos - The Terrace Cafe</td>\n",
       "      <td>4.5</td>\n",
       "      <td>778</td>\n",
       "      <td>3</td>\n",
       "      <td>New Delhi</td>\n",
       "      <td>28.6471325000</td>\n",
       "      <td>77.1177015000</td>\n",
       "    </tr>\n",
       "    <tr>\n",
       "      <th>2</th>\n",
       "      <td>The Hudson Cafe</td>\n",
       "      <td>4.4</td>\n",
       "      <td>1537</td>\n",
       "      <td>2</td>\n",
       "      <td>New Delhi</td>\n",
       "      <td>28.6949468000</td>\n",
       "      <td>77.2043172000</td>\n",
       "    </tr>\n",
       "    <tr>\n",
       "      <th>3</th>\n",
       "      <td>Summer House Cafe</td>\n",
       "      <td>4.1</td>\n",
       "      <td>1823</td>\n",
       "      <td>3</td>\n",
       "      <td>New Delhi</td>\n",
       "      <td>28.5525204000</td>\n",
       "      <td>77.2038090000</td>\n",
       "    </tr>\n",
       "    <tr>\n",
       "      <th>4</th>\n",
       "      <td>38 Barracks</td>\n",
       "      <td>4.4</td>\n",
       "      <td>840</td>\n",
       "      <td>3</td>\n",
       "      <td>New Delhi</td>\n",
       "      <td>28.6330248887</td>\n",
       "      <td>77.2228584811</td>\n",
       "    </tr>\n",
       "    <tr>\n",
       "      <th>5</th>\n",
       "      <td>Spezia Bistro</td>\n",
       "      <td>4.6</td>\n",
       "      <td>1071</td>\n",
       "      <td>2</td>\n",
       "      <td>New Delhi</td>\n",
       "      <td>28.6948390000</td>\n",
       "      <td>77.2041413000</td>\n",
       "    </tr>\n",
       "    <tr>\n",
       "      <th>6</th>\n",
       "      <td>Manhattan Brewery &amp; Bar Exchange</td>\n",
       "      <td>4.6</td>\n",
       "      <td>2093</td>\n",
       "      <td>4</td>\n",
       "      <td>Gurgaon</td>\n",
       "      <td>28.4602710000</td>\n",
       "      <td>77.0950273000</td>\n",
       "    </tr>\n",
       "    <tr>\n",
       "      <th>7</th>\n",
       "      <td>The Wine Company</td>\n",
       "      <td>2.4</td>\n",
       "      <td>2412</td>\n",
       "      <td>4</td>\n",
       "      <td>Gurgaon</td>\n",
       "      <td>28.4962285000</td>\n",
       "      <td>77.0890476000</td>\n",
       "    </tr>\n",
       "    <tr>\n",
       "      <th>8</th>\n",
       "      <td>Farzi Cafe</td>\n",
       "      <td>4.4</td>\n",
       "      <td>1942</td>\n",
       "      <td>4</td>\n",
       "      <td>New Delhi</td>\n",
       "      <td>28.6323984000</td>\n",
       "      <td>77.2214296000</td>\n",
       "    </tr>\n",
       "    <tr>\n",
       "      <th>9</th>\n",
       "      <td>Indian Grill Room</td>\n",
       "      <td>4.5</td>\n",
       "      <td>1262</td>\n",
       "      <td>3</td>\n",
       "      <td>Gurgaon</td>\n",
       "      <td>28.4334574000</td>\n",
       "      <td>77.1052774000</td>\n",
       "    </tr>\n",
       "    <tr>\n",
       "      <th>10</th>\n",
       "      <td>Cafeteria &amp; Co.</td>\n",
       "      <td>4.6</td>\n",
       "      <td>1136</td>\n",
       "      <td>2</td>\n",
       "      <td>New Delhi</td>\n",
       "      <td>28.6944707000</td>\n",
       "      <td>77.2043384000</td>\n",
       "    </tr>\n",
       "    <tr>\n",
       "      <th>11</th>\n",
       "      <td>Farzi Cafe</td>\n",
       "      <td>4.3</td>\n",
       "      <td>4385</td>\n",
       "      <td>4</td>\n",
       "      <td>Gurgaon</td>\n",
       "      <td>28.4952079000</td>\n",
       "      <td>77.0886879000</td>\n",
       "    </tr>\n",
       "    <tr>\n",
       "      <th>12</th>\n",
       "      <td>Molecule Air Bar</td>\n",
       "      <td>4.2</td>\n",
       "      <td>1809</td>\n",
       "      <td>3</td>\n",
       "      <td>Gurgaon</td>\n",
       "      <td>28.4679344000</td>\n",
       "      <td>77.0642265000</td>\n",
       "    </tr>\n",
       "    <tr>\n",
       "      <th>13</th>\n",
       "      <td>HotMess</td>\n",
       "      <td>4.3</td>\n",
       "      <td>1129</td>\n",
       "      <td>3</td>\n",
       "      <td>New Delhi</td>\n",
       "      <td>28.6326547000</td>\n",
       "      <td>77.2222380000</td>\n",
       "    </tr>\n",
       "    <tr>\n",
       "      <th>14</th>\n",
       "      <td>My Bar Headquarters</td>\n",
       "      <td>3.7</td>\n",
       "      <td>3010</td>\n",
       "      <td>3</td>\n",
       "      <td>New Delhi</td>\n",
       "      <td>28.6307210000</td>\n",
       "      <td>77.2198128000</td>\n",
       "    </tr>\n",
       "    <tr>\n",
       "      <th>15</th>\n",
       "      <td>FLYP@MTV</td>\n",
       "      <td>3.9</td>\n",
       "      <td>1379</td>\n",
       "      <td>3</td>\n",
       "      <td>New Delhi</td>\n",
       "      <td>28.6303331283</td>\n",
       "      <td>77.2207207605</td>\n",
       "    </tr>\n",
       "    <tr>\n",
       "      <th>16</th>\n",
       "      <td>Tamasha</td>\n",
       "      <td>3.7</td>\n",
       "      <td>1801</td>\n",
       "      <td>3</td>\n",
       "      <td>New Delhi</td>\n",
       "      <td>28.6296060000</td>\n",
       "      <td>77.2217440000</td>\n",
       "    </tr>\n",
       "    <tr>\n",
       "      <th>17</th>\n",
       "      <td>The Barbeque Company</td>\n",
       "      <td>4.2</td>\n",
       "      <td>621</td>\n",
       "      <td>3</td>\n",
       "      <td>New Delhi</td>\n",
       "      <td>28.6255344000</td>\n",
       "      <td>77.1014229000</td>\n",
       "    </tr>\n",
       "    <tr>\n",
       "      <th>18</th>\n",
       "      <td>Saravana Bhavan</td>\n",
       "      <td>4.3</td>\n",
       "      <td>5172</td>\n",
       "      <td>2</td>\n",
       "      <td>New Delhi</td>\n",
       "      <td>28.6323578000</td>\n",
       "      <td>77.2163096000</td>\n",
       "    </tr>\n",
       "    <tr>\n",
       "      <th>19</th>\n",
       "      <td>Odeon Social</td>\n",
       "      <td>4.1</td>\n",
       "      <td>1959</td>\n",
       "      <td>3</td>\n",
       "      <td>New Delhi</td>\n",
       "      <td>28.6342487678</td>\n",
       "      <td>77.2209088504</td>\n",
       "    </tr>\n",
       "  </tbody>\n",
       "</table>\n",
       "</div>"
      ],
      "text/plain": [
       "                     restaurant name user rating number of votes  price range  \\\n",
       "0                   Hauz Khas Social         4.3            7931            3   \n",
       "1         Qubitos - The Terrace Cafe         4.5             778            3   \n",
       "2                    The Hudson Cafe         4.4            1537            2   \n",
       "3                  Summer House Cafe         4.1            1823            3   \n",
       "4                        38 Barracks         4.4             840            3   \n",
       "5                      Spezia Bistro         4.6            1071            2   \n",
       "6   Manhattan Brewery & Bar Exchange         4.6            2093            4   \n",
       "7                   The Wine Company         2.4            2412            4   \n",
       "8                         Farzi Cafe         4.4            1942            4   \n",
       "9                  Indian Grill Room         4.5            1262            3   \n",
       "10                   Cafeteria & Co.         4.6            1136            2   \n",
       "11                        Farzi Cafe         4.3            4385            4   \n",
       "12                  Molecule Air Bar         4.2            1809            3   \n",
       "13                           HotMess         4.3            1129            3   \n",
       "14               My Bar Headquarters         3.7            3010            3   \n",
       "15                          FLYP@MTV         3.9            1379            3   \n",
       "16                           Tamasha         3.7            1801            3   \n",
       "17              The Barbeque Company         4.2             621            3   \n",
       "18                   Saravana Bhavan         4.3            5172            2   \n",
       "19                      Odeon Social         4.1            1959            3   \n",
       "\n",
       "         city       latitude      longitude  \n",
       "0   New Delhi  28.5542851000  77.1944706000  \n",
       "1   New Delhi  28.6471325000  77.1177015000  \n",
       "2   New Delhi  28.6949468000  77.2043172000  \n",
       "3   New Delhi  28.5525204000  77.2038090000  \n",
       "4   New Delhi  28.6330248887  77.2228584811  \n",
       "5   New Delhi  28.6948390000  77.2041413000  \n",
       "6     Gurgaon  28.4602710000  77.0950273000  \n",
       "7     Gurgaon  28.4962285000  77.0890476000  \n",
       "8   New Delhi  28.6323984000  77.2214296000  \n",
       "9     Gurgaon  28.4334574000  77.1052774000  \n",
       "10  New Delhi  28.6944707000  77.2043384000  \n",
       "11    Gurgaon  28.4952079000  77.0886879000  \n",
       "12    Gurgaon  28.4679344000  77.0642265000  \n",
       "13  New Delhi  28.6326547000  77.2222380000  \n",
       "14  New Delhi  28.6307210000  77.2198128000  \n",
       "15  New Delhi  28.6303331283  77.2207207605  \n",
       "16  New Delhi  28.6296060000  77.2217440000  \n",
       "17  New Delhi  28.6255344000  77.1014229000  \n",
       "18  New Delhi  28.6323578000  77.2163096000  \n",
       "19  New Delhi  28.6342487678  77.2209088504  "
      ]
     },
     "execution_count": 184,
     "metadata": {},
     "output_type": "execute_result"
    }
   ],
   "source": [
    "restaurant_df = pd.DataFrame(restaurant_data, columns=json_titles)\n",
    "restaurant_df.head(20)"
   ]
  },
  {
   "cell_type": "code",
   "execution_count": 185,
   "metadata": {},
   "outputs": [
    {
     "data": {
      "text/plain": [
       "restaurant name    object\n",
       "user rating        object\n",
       "number of votes    object\n",
       "price range         int64\n",
       "city               object\n",
       "latitude           object\n",
       "longitude          object\n",
       "dtype: object"
      ]
     },
     "execution_count": 185,
     "metadata": {},
     "output_type": "execute_result"
    }
   ],
   "source": [
    "#Putting each column into the right class\n",
    "restaurant_df.dtypes"
   ]
  },
  {
   "cell_type": "code",
   "execution_count": 190,
   "metadata": {},
   "outputs": [
    {
     "data": {
      "text/plain": [
       "1180"
      ]
     },
     "execution_count": 190,
     "metadata": {},
     "output_type": "execute_result"
    }
   ],
   "source": [
    "len(restaurant_df.index)"
   ]
  },
  {
   "cell_type": "code",
   "execution_count": 203,
   "metadata": {},
   "outputs": [],
   "source": [
    "#cleaning the data"
   ]
  },
  {
   "cell_type": "code",
   "execution_count": 208,
   "metadata": {},
   "outputs": [],
   "source": [
    "restaurant_df['user rating'] = pd.to_numeric(restaurant_df['user rating'])\n",
    "restaurant_df['price range'] = pd.to_numeric(restaurant_df['price range'])\n",
    "restaurant_df['longitude'] = pd.to_numeric(restaurant_df['longitude'])\n",
    "restaurant_df['latitude'] = pd.to_numeric(restaurant_df['latitude'])\n",
    "restaurant_df['number of votes'] = pd.to_numeric(restaurant_df['number of votes'])"
   ]
  },
  {
   "cell_type": "code",
   "execution_count": 209,
   "metadata": {},
   "outputs": [
    {
     "data": {
      "text/plain": [
       "restaurant name     object\n",
       "user rating        float64\n",
       "number of votes      int64\n",
       "price range          int64\n",
       "city                object\n",
       "latitude           float64\n",
       "longitude          float64\n",
       "dtype: object"
      ]
     },
     "execution_count": 209,
     "metadata": {},
     "output_type": "execute_result"
    }
   ],
   "source": [
    "restaurant_df.dtypes"
   ]
  },
  {
   "cell_type": "markdown",
   "metadata": {},
   "source": [
    "#### testing for missing values (I do it in a more uniform format latter on, just testing out things)"
   ]
  },
  {
   "cell_type": "code",
   "execution_count": 226,
   "metadata": {},
   "outputs": [
    {
     "data": {
      "text/plain": [
       "0"
      ]
     },
     "execution_count": 226,
     "metadata": {},
     "output_type": "execute_result"
    }
   ],
   "source": [
    "testingnas = restaurant_df.isna()\n",
    "sum(testingnas['user rating'])\n",
    "\n"
   ]
  },
  {
   "cell_type": "code",
   "execution_count": 227,
   "metadata": {},
   "outputs": [
    {
     "data": {
      "text/plain": [
       "0"
      ]
     },
     "execution_count": 227,
     "metadata": {},
     "output_type": "execute_result"
    }
   ],
   "source": [
    "sum(testingnas['number of votes'])\n"
   ]
  },
  {
   "cell_type": "code",
   "execution_count": 228,
   "metadata": {},
   "outputs": [
    {
     "data": {
      "text/plain": [
       "0"
      ]
     },
     "execution_count": 228,
     "metadata": {},
     "output_type": "execute_result"
    }
   ],
   "source": [
    "sum(testingnas['price range'])"
   ]
  },
  {
   "cell_type": "markdown",
   "metadata": {},
   "source": [
    "#### Describing the data"
   ]
  },
  {
   "cell_type": "code",
   "execution_count": 447,
   "metadata": {},
   "outputs": [
    {
     "data": {
      "text/html": [
       "<div>\n",
       "<style scoped>\n",
       "    .dataframe tbody tr th:only-of-type {\n",
       "        vertical-align: middle;\n",
       "    }\n",
       "\n",
       "    .dataframe tbody tr th {\n",
       "        vertical-align: top;\n",
       "    }\n",
       "\n",
       "    .dataframe thead th {\n",
       "        text-align: right;\n",
       "    }\n",
       "</style>\n",
       "<table border=\"1\" class=\"dataframe\">\n",
       "  <thead>\n",
       "    <tr style=\"text-align: right;\">\n",
       "      <th></th>\n",
       "      <th>user rating</th>\n",
       "      <th>number of votes</th>\n",
       "      <th>price range</th>\n",
       "      <th>latitude</th>\n",
       "      <th>longitude</th>\n",
       "    </tr>\n",
       "  </thead>\n",
       "  <tbody>\n",
       "    <tr>\n",
       "      <th>count</th>\n",
       "      <td>1159.00</td>\n",
       "      <td>1159.00</td>\n",
       "      <td>1159.00</td>\n",
       "      <td>1159.00</td>\n",
       "      <td>1159.00</td>\n",
       "    </tr>\n",
       "    <tr>\n",
       "      <th>mean</th>\n",
       "      <td>4.01</td>\n",
       "      <td>442.72</td>\n",
       "      <td>2.81</td>\n",
       "      <td>14.65</td>\n",
       "      <td>58.64</td>\n",
       "    </tr>\n",
       "    <tr>\n",
       "      <th>std</th>\n",
       "      <td>0.52</td>\n",
       "      <td>857.31</td>\n",
       "      <td>0.86</td>\n",
       "      <td>21.63</td>\n",
       "      <td>45.04</td>\n",
       "    </tr>\n",
       "    <tr>\n",
       "      <th>min</th>\n",
       "      <td>0.00</td>\n",
       "      <td>1.00</td>\n",
       "      <td>1.00</td>\n",
       "      <td>-41.33</td>\n",
       "      <td>-48.02</td>\n",
       "    </tr>\n",
       "    <tr>\n",
       "      <th>25%</th>\n",
       "      <td>3.70</td>\n",
       "      <td>85.00</td>\n",
       "      <td>2.00</td>\n",
       "      <td>1.30</td>\n",
       "      <td>28.27</td>\n",
       "    </tr>\n",
       "    <tr>\n",
       "      <th>50%</th>\n",
       "      <td>4.10</td>\n",
       "      <td>185.00</td>\n",
       "      <td>3.00</td>\n",
       "      <td>20.00</td>\n",
       "      <td>75.36</td>\n",
       "    </tr>\n",
       "    <tr>\n",
       "      <th>75%</th>\n",
       "      <td>4.30</td>\n",
       "      <td>419.00</td>\n",
       "      <td>3.00</td>\n",
       "      <td>25.63</td>\n",
       "      <td>79.86</td>\n",
       "    </tr>\n",
       "    <tr>\n",
       "      <th>max</th>\n",
       "      <td>4.90</td>\n",
       "      <td>10934.00</td>\n",
       "      <td>4.00</td>\n",
       "      <td>55.98</td>\n",
       "      <td>174.83</td>\n",
       "    </tr>\n",
       "  </tbody>\n",
       "</table>\n",
       "</div>"
      ],
      "text/plain": [
       "       user rating  number of votes  price range  latitude  longitude\n",
       "count      1159.00          1159.00      1159.00   1159.00    1159.00\n",
       "mean          4.01           442.72         2.81     14.65      58.64\n",
       "std           0.52           857.31         0.86     21.63      45.04\n",
       "min           0.00             1.00         1.00    -41.33     -48.02\n",
       "25%           3.70            85.00         2.00      1.30      28.27\n",
       "50%           4.10           185.00         3.00     20.00      75.36\n",
       "75%           4.30           419.00         3.00     25.63      79.86\n",
       "max           4.90         10934.00         4.00     55.98     174.83"
      ]
     },
     "execution_count": 447,
     "metadata": {},
     "output_type": "execute_result"
    }
   ],
   "source": [
    "restaurant_df.describe().round(2)"
   ]
  },
  {
   "cell_type": "code",
   "execution_count": 213,
   "metadata": {},
   "outputs": [
    {
     "data": {
      "text/plain": [
       "London              20\n",
       "Singapore           20\n",
       "Edinburgh           20\n",
       "Ludhiana            20\n",
       "Goa                 20\n",
       "Mangalore           20\n",
       "Patna               20\n",
       "Rio de Janeiro      20\n",
       "Puducherry          20\n",
       "Brasília            20\n",
       "Pune                20\n",
       "Bhubaneshwar        20\n",
       "Vadodara            20\n",
       "Cape Town           20\n",
       "Bhopal              20\n",
       "Ahmedabad           20\n",
       "Indore              20\n",
       "Mysore              20\n",
       "Abu Dhabi           20\n",
       "Aurangabad          20\n",
       "Kolkata             20\n",
       "Kanpur              20\n",
       "Bangalore           20\n",
       "Nagpur              20\n",
       "Varanasi            20\n",
       "Mumbai              20\n",
       "Agra                20\n",
       "Ranchi              20\n",
       "İstanbul            20\n",
       "Guwahati            20\n",
       "                    ..\n",
       "Vizag               20\n",
       "Surat               20\n",
       "Doha                20\n",
       "Colombo             20\n",
       "Chennai             20\n",
       "Pretoria            20\n",
       "Birmingham          20\n",
       "Manchester          20\n",
       "Hyderabad           18\n",
       "Chandigarh          18\n",
       "Jakarta             16\n",
       "New Delhi           15\n",
       "Sandton             11\n",
       "Johannesburg         6\n",
       "Gurgaon              5\n",
       "Mandaluyong City     4\n",
       "Taguig City          4\n",
       "Pasay City           3\n",
       "Pasig City           3\n",
       "Bogor                2\n",
       "Makati City          2\n",
       "Inner City           2\n",
       "Secunderabad         2\n",
       "San Juan City        2\n",
       "Tangerang            2\n",
       "Tagaytay City        1\n",
       "Randburg             1\n",
       "Mohali               1\n",
       "Panchkula            1\n",
       "Quezon City          1\n",
       "Name: city, Length: 75, dtype: int64"
      ]
     },
     "execution_count": 213,
     "metadata": {},
     "output_type": "execute_result"
    }
   ],
   "source": [
    "restaurant_df['city'].value_counts()"
   ]
  },
  {
   "cell_type": "code",
   "execution_count": 214,
   "metadata": {},
   "outputs": [
    {
     "data": {
      "text/html": [
       "<div>\n",
       "<style scoped>\n",
       "    .dataframe tbody tr th:only-of-type {\n",
       "        vertical-align: middle;\n",
       "    }\n",
       "\n",
       "    .dataframe tbody tr th {\n",
       "        vertical-align: top;\n",
       "    }\n",
       "\n",
       "    .dataframe thead th {\n",
       "        text-align: right;\n",
       "    }\n",
       "</style>\n",
       "<table border=\"1\" class=\"dataframe\">\n",
       "  <thead>\n",
       "    <tr style=\"text-align: right;\">\n",
       "      <th></th>\n",
       "      <th>user rating</th>\n",
       "      <th>number of votes</th>\n",
       "      <th>price range</th>\n",
       "      <th>latitude</th>\n",
       "      <th>longitude</th>\n",
       "    </tr>\n",
       "  </thead>\n",
       "  <tbody>\n",
       "    <tr>\n",
       "      <th>user rating</th>\n",
       "      <td>1.000000</td>\n",
       "      <td>0.219499</td>\n",
       "      <td>0.014430</td>\n",
       "      <td>0.045874</td>\n",
       "      <td>0.179965</td>\n",
       "    </tr>\n",
       "    <tr>\n",
       "      <th>number of votes</th>\n",
       "      <td>0.219499</td>\n",
       "      <td>1.000000</td>\n",
       "      <td>0.041088</td>\n",
       "      <td>0.076206</td>\n",
       "      <td>0.162515</td>\n",
       "    </tr>\n",
       "    <tr>\n",
       "      <th>price range</th>\n",
       "      <td>0.014430</td>\n",
       "      <td>0.041088</td>\n",
       "      <td>1.000000</td>\n",
       "      <td>-0.209529</td>\n",
       "      <td>-0.097244</td>\n",
       "    </tr>\n",
       "    <tr>\n",
       "      <th>latitude</th>\n",
       "      <td>0.045874</td>\n",
       "      <td>0.076206</td>\n",
       "      <td>-0.209529</td>\n",
       "      <td>1.000000</td>\n",
       "      <td>-0.005427</td>\n",
       "    </tr>\n",
       "    <tr>\n",
       "      <th>longitude</th>\n",
       "      <td>0.179965</td>\n",
       "      <td>0.162515</td>\n",
       "      <td>-0.097244</td>\n",
       "      <td>-0.005427</td>\n",
       "      <td>1.000000</td>\n",
       "    </tr>\n",
       "  </tbody>\n",
       "</table>\n",
       "</div>"
      ],
      "text/plain": [
       "                 user rating  number of votes  price range  latitude  \\\n",
       "user rating         1.000000         0.219499     0.014430  0.045874   \n",
       "number of votes     0.219499         1.000000     0.041088  0.076206   \n",
       "price range         0.014430         0.041088     1.000000 -0.209529   \n",
       "latitude            0.045874         0.076206    -0.209529  1.000000   \n",
       "longitude           0.179965         0.162515    -0.097244 -0.005427   \n",
       "\n",
       "                 longitude  \n",
       "user rating       0.179965  \n",
       "number of votes   0.162515  \n",
       "price range      -0.097244  \n",
       "latitude         -0.005427  \n",
       "longitude         1.000000  "
      ]
     },
     "execution_count": 214,
     "metadata": {},
     "output_type": "execute_result"
    }
   ],
   "source": [
    "#I want to see the correlation between user rating, number of votes, and price range\n",
    "restaurant_df.corr()"
   ]
  },
  {
   "cell_type": "markdown",
   "metadata": {},
   "source": [
    "It is interesting to note above that there is a highest correlation between the number of votes and the user rating in a positive direction, suggesting a correlation that is potentially endogenous"
   ]
  },
  {
   "cell_type": "code",
   "execution_count": 465,
   "metadata": {},
   "outputs": [
    {
     "data": {
      "text/plain": [
       "city\n",
       "Abu Dhabi          15.5\n",
       "Agra               49.5\n",
       "Ahmedabad          52.5\n",
       "Allahabad          49.5\n",
       "Amritsar           73.5\n",
       "Ankara             41.0\n",
       "Auckland           21.0\n",
       "Aurangabad         67.0\n",
       "Bangalore          46.0\n",
       "Bhopal             68.0\n",
       "Bhubaneshwar       73.5\n",
       "Birmingham         63.5\n",
       "Bogor              57.0\n",
       "Brasília           19.0\n",
       "Cape Town          18.0\n",
       "Chandigarh         57.0\n",
       "Chennai            60.5\n",
       "Coimbatore         63.5\n",
       "Colombo            38.0\n",
       "Dehradun           21.0\n",
       "Doha               10.0\n",
       "Dubai              21.0\n",
       "Edinburgh          35.0\n",
       "Goa                10.0\n",
       "Gurgaon            12.0\n",
       "Guwahati           54.5\n",
       "Hyderabad          36.0\n",
       "Indore             43.5\n",
       "Inner City          2.5\n",
       "Jaipur             38.0\n",
       "                   ... \n",
       "Mysore             60.5\n",
       "Nagpur             66.0\n",
       "Nashik             41.0\n",
       "New Delhi          41.0\n",
       "Panchkula           2.5\n",
       "Pasay City          2.5\n",
       "Pasig City         27.5\n",
       "Patna              60.5\n",
       "Pretoria            7.0\n",
       "Puducherry         27.5\n",
       "Pune               33.5\n",
       "Quezon City        27.5\n",
       "Ranchi             69.5\n",
       "Randburg           27.5\n",
       "Rio de Janeiro     13.5\n",
       "San Juan City      27.5\n",
       "Sandton             5.0\n",
       "Secunderabad       71.5\n",
       "Sharjah            15.5\n",
       "Singapore          10.0\n",
       "Surat              49.5\n",
       "São Paulo           8.0\n",
       "Tagaytay City      27.5\n",
       "Taguig City        13.5\n",
       "Tangerang          27.5\n",
       "Vadodara           52.5\n",
       "Varanasi           60.5\n",
       "Vizag              65.0\n",
       "Wellington City    17.0\n",
       "İstanbul           33.5\n",
       "Name: price range, Length: 74, dtype: float64"
      ]
     },
     "execution_count": 465,
     "metadata": {},
     "output_type": "execute_result"
    }
   ],
   "source": [
    "restaurant_df.groupby(['city'])['price range'].mean().rank(ascending=False)"
   ]
  },
  {
   "cell_type": "markdown",
   "metadata": {},
   "source": [
    "#### Visualizing the Data (with some cleaning too)"
   ]
  },
  {
   "cell_type": "code",
   "execution_count": 215,
   "metadata": {},
   "outputs": [
    {
     "name": "stderr",
     "output_type": "stream",
     "text": [
      "/Users/mikepriorusa/anaconda3/lib/python3.7/site-packages/matplotlib/font_manager.py:232: UserWarning: Matplotlib is building the font cache using fc-list. This may take a moment.\n",
      "  'Matplotlib is building the font cache using fc-list. '\n"
     ]
    }
   ],
   "source": [
    "import seaborn as sns"
   ]
  },
  {
   "cell_type": "code",
   "execution_count": 453,
   "metadata": {},
   "outputs": [
    {
     "data": {
      "text/plain": [
       "<seaborn.axisgrid.FacetGrid at 0x1a2104bc18>"
      ]
     },
     "execution_count": 453,
     "metadata": {},
     "output_type": "execute_result"
    },
    {
     "data": {
      "image/png": "[encoded data removed]",
      "text/plain": [
       "<Figure size 360x360 with 1 Axes>"
      ]
     },
     "metadata": {
      "needs_background": "light"
     },
     "output_type": "display_data"
    }
   ],
   "source": [
    "restaurant_lmplot = sns.lmplot(x=\"number of votes\", y=\"user rating\", data=restaurant_df)\n",
    "restaurant_lmplot.set(xlabel= \"Number of Votes\", ylabel= \"User Rating\", title=\"Number of Votes and User Rating\")"
   ]
  },
  {
   "cell_type": "code",
   "execution_count": 451,
   "metadata": {},
   "outputs": [
    {
     "data": {
      "text/plain": [
       "<seaborn.axisgrid.FacetGrid at 0x1a20dba2e8>"
      ]
     },
     "execution_count": 451,
     "metadata": {},
     "output_type": "execute_result"
    },
    {
     "data": {
      "image/png": "[encoded data removed]",
      "text/plain": [
       "<Figure size 360x360 with 1 Axes>"
      ]
     },
     "metadata": {
      "needs_background": "light"
     },
     "output_type": "display_data"
    }
   ],
   "source": [
    "#focusing in on data bunched with lower number of ratings\n",
    "filteredgraph = restaurant_df[restaurant_df[\"number of votes\"] < 700]\n",
    "restaurant_lmplot = sns.lmplot(x=\"number of votes\", y=\"user rating\", data=filteredgraph)\n",
    "restaurant_lmplot.set(xlabel= \"Number of Votes\", ylabel= \"User Rating\", title=\"Number of Votes and User Rating\")"
   ]
  },
  {
   "cell_type": "markdown",
   "metadata": {},
   "source": [
    "I'm going to keep the outliers with a high number of votes as they seem to be accurate of a trend present even when excluded. I will drop the outliers where there is a user rating of 0 because of no votes. I will keep the restaurants even with a few values because it does signify a relationship and could be important"
   ]
  },
  {
   "cell_type": "code",
   "execution_count": 243,
   "metadata": {},
   "outputs": [],
   "source": [
    "#filtering out null values\n",
    "restaurant_df = restaurant_df[restaurant_df[\"number of votes\"] !=0 ]"
   ]
  },
  {
   "cell_type": "code",
   "execution_count": 450,
   "metadata": {},
   "outputs": [
    {
     "data": {
      "text/plain": [
       "<seaborn.axisgrid.FacetGrid at 0x1a20d7b940>"
      ]
     },
     "execution_count": 450,
     "metadata": {},
     "output_type": "execute_result"
    },
    {
     "data": {
      "image/png": "[encoded data removed]",
      "text/plain": [
       "<Figure size 360x360 with 1 Axes>"
      ]
     },
     "metadata": {
      "needs_background": "light"
     },
     "output_type": "display_data"
    }
   ],
   "source": [
    "restaurant_lmplot = sns.lmplot(x=\"number of votes\", y=\"user rating\", data=restaurant_df)\n",
    "restaurant_lmplot.set(xlabel= \"Number of Votes\", ylabel= \"User Rating\", title=\"Number of Votes and User Rating\")"
   ]
  },
  {
   "cell_type": "code",
   "execution_count": 449,
   "metadata": {},
   "outputs": [
    {
     "data": {
      "text/plain": [
       "[Text(0.5, 0, 'User Rating'), Text(0.5, 1.0, 'User Rating Distribution')]"
      ]
     },
     "execution_count": 449,
     "metadata": {},
     "output_type": "execute_result"
    },
    {
     "data": {
      "image/png": "[encoded data removed]",
      "text/plain": [
       "<Figure size 432x288 with 1 Axes>"
      ]
     },
     "metadata": {
      "needs_background": "light"
     },
     "output_type": "display_data"
    }
   ],
   "source": [
    "restaurant_dist = sns.distplot(restaurant_df['user rating'], kde=True)\n",
    "restaurant_dist.set(xlabel=\"User Rating\", title=\"User Rating Distribution\")"
   ]
  },
  {
   "cell_type": "markdown",
   "metadata": {},
   "source": [
    "## Importing the API Data"
   ]
  },
  {
   "cell_type": "markdown",
   "metadata": {},
   "source": [
    "#### Reading in the Data"
   ]
  },
  {
   "cell_type": "code",
   "execution_count": 30,
   "metadata": {},
   "outputs": [],
   "source": [
    "#loading in the data using requests\n",
    "import requests\n",
    "get_request = requests.get(\"http://api.population.io/1.0/population/2010/United%20States/?format=json\")"
   ]
  },
  {
   "cell_type": "code",
   "execution_count": 36,
   "metadata": {
    "scrolled": true
   },
   "outputs": [
    {
     "data": {
      "text/plain": [
       "'[{\"females\": 1966000, \"country\": \"United States\", \"age\": 0, \"males\": 2054000, \"year\": 2010, \"total\": 4019000}, {\"females\": 1973000, \"country\": \"United States\", \"age\": 1, \"males\": 2056000, \"year\": 2010, \"total\": 4030000}, {\"females\": 1979000, \"country\": \"United States\", \"age\": 2, \"males\": 2059000, \"year\": 2010, \"total\": 4038000}, {\"females\": 1983000, \"country\": \"United States\", \"age\": 3, \"males\": 2061000, \"year\": 2010, \"total\": 4043000}, {\"females\": 1985000, \"country\": \"United States\", \"age\": 4, \"males\": 2063000, \"year\": 2010, \"total\": 4048000}, {\"females\": 1987000, \"country\": \"United States\", \"age\": 5, \"males\": 2066000, \"year\": 2010, \"total\": 4052000}, {\"females\": 1988000, \"country\": \"United States\", \"age\": 6, \"males\": 2069000, \"year\": 2010, \"total\": 4057000}, {\"females\": 1989000, \"country\": \"United States\", \"age\": 7, \"males\": 2073000, \"year\": 2010, \"total\": 4062000}, {\"females\": 1991000, \"country\": \"United States\", \"age\": 8, \"males\": 2079000, \"year\": 2010, \"total\": 4070000}, {\"females\": 1994000, \"country\": \"United States\", \"age\": 9, \"males\": 2086000, \"year\": 2010, \"total\": 4081000}, {\"females\": 1997000, \"country\": \"United States\", \"age\": 10, \"males\": 2094000, \"year\": 2010, \"total\": 4091000}, {\"females\": 1997000, \"country\": \"United States\", \"age\": 11, \"males\": 2099000, \"year\": 2010, \"total\": 4097000}, {\"females\": 2006000, \"country\": \"United States\", \"age\": 12, \"males\": 2114000, \"year\": 2010, \"total\": 4120000}, {\"females\": 2028000, \"country\": \"United States\", \"age\": 13, \"males\": 2142000, \"year\": 2010, \"total\": 4170000}, {\"females\": 2057000, \"country\": \"United States\", \"age\": 14, \"males\": 2177000, \"year\": 2010, \"total\": 4234000}, {\"females\": 2084000, \"country\": \"United States\", \"age\": 15, \"males\": 2211000, \"year\": 2010, \"total\": 4295000}, {\"females\": 2113000, \"country\": \"United States\", \"age\": 16, \"males\": 2245000, \"year\": 2010, \"total\": 4358000}, {\"females\": 2132000, \"country\": \"United States\", \"age\": 17, \"males\": 2267000, \"year\": 2010, \"total\": 4398000}, {\"females\": 2134000, \"country\": \"United States\", \"age\": 18, \"males\": 2269000, \"year\": 2010, \"total\": 4403000}, {\"females\": 2126000, \"country\": \"United States\", \"age\": 19, \"males\": 2258000, \"year\": 2010, \"total\": 4384000}, {\"females\": 2119000, \"country\": \"United States\", \"age\": 20, \"males\": 2247000, \"year\": 2010, \"total\": 4366000}, {\"females\": 2109000, \"country\": \"United States\", \"age\": 21, \"males\": 2234000, \"year\": 2010, \"total\": 4343000}, {\"females\": 2103000, \"country\": \"United States\", \"age\": 22, \"males\": 2220000, \"year\": 2010, \"total\": 4323000}, {\"females\": 2103000, \"country\": \"United States\", \"age\": 23, \"males\": 2208000, \"year\": 2010, \"total\": 4310000}, {\"females\": 2106000, \"country\": \"United States\", \"age\": 24, \"males\": 2196000, \"year\": 2010, \"total\": 4302000}, {\"females\": 2107000, \"country\": \"United States\", \"age\": 25, \"males\": 2183000, \"year\": 2010, \"total\": 4290000}, {\"females\": 2109000, \"country\": \"United States\", \"age\": 26, \"males\": 2168000, \"year\": 2010, \"total\": 4277000}, {\"females\": 2103000, \"country\": \"United States\", \"age\": 27, \"males\": 2151000, \"year\": 2010, \"total\": 4254000}, {\"females\": 2085000, \"country\": \"United States\", \"age\": 28, \"males\": 2129000, \"year\": 2010, \"total\": 4214000}, {\"females\": 2060000, \"country\": \"United States\", \"age\": 29, \"males\": 2105000, \"year\": 2010, \"total\": 4165000}, {\"females\": 2037000, \"country\": \"United States\", \"age\": 30, \"males\": 2083000, \"year\": 2010, \"total\": 4120000}, {\"females\": 2014000, \"country\": \"United States\", \"age\": 31, \"males\": 2062000, \"year\": 2010, \"total\": 4076000}, {\"females\": 1998000, \"country\": \"United States\", \"age\": 32, \"males\": 2045000, \"year\": 2010, \"total\": 4043000}, {\"females\": 1994000, \"country\": \"United States\", \"age\": 33, \"males\": 2034000, \"year\": 2010, \"total\": 4028000}, {\"females\": 1999000, \"country\": \"United States\", \"age\": 34, \"males\": 2029000, \"year\": 2010, \"total\": 4028000}, {\"females\": 2004000, \"country\": \"United States\", \"age\": 35, \"males\": 2025000, \"year\": 2010, \"total\": 4029000}, {\"females\": 2012000, \"country\": \"United States\", \"age\": 36, \"males\": 2023000, \"year\": 2010, \"total\": 4035000}, {\"females\": 2022000, \"country\": \"United States\", \"age\": 37, \"males\": 2028000, \"year\": 2010, \"total\": 4050000}, {\"females\": 2031000, \"country\": \"United States\", \"age\": 38, \"males\": 2044000, \"year\": 2010, \"total\": 4075000}, {\"females\": 2042000, \"country\": \"United States\", \"age\": 39, \"males\": 2068000, \"year\": 2010, \"total\": 4110000}, {\"females\": 2055000, \"country\": \"United States\", \"age\": 40, \"males\": 2091000, \"year\": 2010, \"total\": 4146000}, {\"females\": 2066000, \"country\": \"United States\", \"age\": 41, \"males\": 2114000, \"year\": 2010, \"total\": 4180000}, {\"females\": 2088000, \"country\": \"United States\", \"age\": 42, \"males\": 2142000, \"year\": 2010, \"total\": 4230000}, {\"females\": 2128000, \"country\": \"United States\", \"age\": 43, \"males\": 2175000, \"year\": 2010, \"total\": 4303000}, {\"females\": 2177000, \"country\": \"United States\", \"age\": 44, \"males\": 2209000, \"year\": 2010, \"total\": 4386000}, {\"females\": 2223000, \"country\": \"United States\", \"age\": 45, \"males\": 2241000, \"year\": 2010, \"total\": 4464000}, {\"females\": 2267000, \"country\": \"United States\", \"age\": 46, \"males\": 2270000, \"year\": 2010, \"total\": 4537000}, {\"females\": 2298000, \"country\": \"United States\", \"age\": 47, \"males\": 2290000, \"year\": 2010, \"total\": 4588000}, {\"females\": 2310000, \"country\": \"United States\", \"age\": 48, \"males\": 2296000, \"year\": 2010, \"total\": 4606000}, {\"females\": 2306000, \"country\": \"United States\", \"age\": 49, \"males\": 2291000, \"year\": 2010, \"total\": 4596000}, {\"females\": 2299000, \"country\": \"United States\", \"age\": 50, \"males\": 2281000, \"year\": 2010, \"total\": 4581000}, {\"females\": 2290000, \"country\": \"United States\", \"age\": 51, \"males\": 2269000, \"year\": 2010, \"total\": 4558000}, {\"females\": 2269000, \"country\": \"United States\", \"age\": 52, \"males\": 2242000, \"year\": 2010, \"total\": 4510000}, {\"females\": 2234000, \"country\": \"United States\", \"age\": 53, \"males\": 2196000, \"year\": 2010, \"total\": 4430000}, {\"females\": 2189000, \"country\": \"United States\", \"age\": 54, \"males\": 2137000, \"year\": 2010, \"total\": 4326000}, {\"females\": 2139000, \"country\": \"United States\", \"age\": 55, \"males\": 2074000, \"year\": 2010, \"total\": 4213000}, {\"females\": 2081000, \"country\": \"United States\", \"age\": 56, \"males\": 2004000, \"year\": 2010, \"total\": 4085000}, {\"females\": 2026000, \"country\": \"United States\", \"age\": 57, \"males\": 1936000, \"year\": 2010, \"total\": 3961000}, {\"females\": 1977000, \"country\": \"United States\", \"age\": 58, \"males\": 1875000, \"year\": 2010, \"total\": 3852000}, {\"females\": 1931000, \"country\": \"United States\", \"age\": 59, \"males\": 1818000, \"year\": 2010, \"total\": 3749000}, {\"females\": 1880000, \"country\": \"United States\", \"age\": 60, \"males\": 1757000, \"year\": 2010, \"total\": 3638000}, {\"females\": 1829000, \"country\": \"United States\", \"age\": 61, \"males\": 1696000, \"year\": 2010, \"total\": 3525000}, {\"females\": 1764000, \"country\": \"United States\", \"age\": 62, \"males\": 1623000, \"year\": 2010, \"total\": 3386000}, {\"females\": 1678000, \"country\": \"United States\", \"age\": 63, \"males\": 1530000, \"year\": 2010, \"total\": 3208000}, {\"females\": 1580000, \"country\": \"United States\", \"age\": 64, \"males\": 1426000, \"year\": 2010, \"total\": 3006000}, {\"females\": 1484000, \"country\": \"United States\", \"age\": 65, \"males\": 1324000, \"year\": 2010, \"total\": 2808000}, {\"females\": 1387000, \"country\": \"United States\", \"age\": 66, \"males\": 1221000, \"year\": 2010, \"total\": 2608000}, {\"females\": 1300000, \"country\": \"United States\", \"age\": 67, \"males\": 1133000, \"year\": 2010, \"total\": 2433000}, {\"females\": 1229000, \"country\": \"United States\", \"age\": 68, \"males\": 1070000, \"year\": 2010, \"total\": 2299000}, {\"females\": 1170000, \"country\": \"United States\", \"age\": 69, \"males\": 1023000, \"year\": 2010, \"total\": 2193000}, {\"females\": 1111000, \"country\": \"United States\", \"age\": 70, \"males\": 975000, \"year\": 2010, \"total\": 2086000}, {\"females\": 1054000, \"country\": \"United States\", \"age\": 71, \"males\": 930000, \"year\": 2010, \"total\": 1984000}, {\"females\": 1003000, \"country\": \"United States\", \"age\": 72, \"males\": 884000, \"year\": 2010, \"total\": 1887000}, {\"females\": 958000, \"country\": \"United States\", \"age\": 73, \"males\": 832000, \"year\": 2010, \"total\": 1790000}, {\"females\": 919000, \"country\": \"United States\", \"age\": 74, \"males\": 777000, \"year\": 2010, \"total\": 1696000}, {\"females\": 882000, \"country\": \"United States\", \"age\": 75, \"males\": 726000, \"year\": 2010, \"total\": 1607000}, {\"females\": 846000, \"country\": \"United States\", \"age\": 76, \"males\": 675000, \"year\": 2010, \"total\": 1521000}, {\"females\": 816000, \"country\": \"United States\", \"age\": 77, \"males\": 632000, \"year\": 2010, \"total\": 1447000}, {\"females\": 793000, \"country\": \"United States\", \"age\": 78, \"males\": 596000, \"year\": 2010, \"total\": 1389000}, {\"females\": 774000, \"country\": \"United States\", \"age\": 79, \"males\": 567000, \"year\": 2010, \"total\": 1340000}, {\"females\": 755000, \"country\": \"United States\", \"age\": 80, \"males\": 537000, \"year\": 2010, \"total\": 1292000}, {\"females\": 737000, \"country\": \"United States\", \"age\": 81, \"males\": 510000, \"year\": 2010, \"total\": 1247000}, {\"females\": 710000, \"country\": \"United States\", \"age\": 82, \"males\": 477000, \"year\": 2010, \"total\": 1186000}, {\"females\": 666000, \"country\": \"United States\", \"age\": 83, \"males\": 433000, \"year\": 2010, \"total\": 1099000}, {\"females\": 611000, \"country\": \"United States\", \"age\": 84, \"males\": 383000, \"year\": 2010, \"total\": 994000}, {\"females\": 557000, \"country\": \"United States\", \"age\": 85, \"males\": 336000, \"year\": 2010, \"total\": 893000}, {\"females\": 504000, \"country\": \"United States\", \"age\": 86, \"males\": 290000, \"year\": 2010, \"total\": 794000}, {\"females\": 451000, \"country\": \"United States\", \"age\": 87, \"males\": 246000, \"year\": 2010, \"total\": 697000}, {\"females\": 398000, \"country\": \"United States\", \"age\": 88, \"males\": 208000, \"year\": 2010, \"total\": 606000}, {\"females\": 347000, \"country\": \"United States\", \"age\": 89, \"males\": 173000, \"year\": 2010, \"total\": 521000}, {\"females\": 297000, \"country\": \"United States\", \"age\": 90, \"males\": 140000, \"year\": 2010, \"total\": 437000}, {\"females\": 247000, \"country\": \"United States\", \"age\": 91, \"males\": 108000, \"year\": 2010, \"total\": 355000}, {\"females\": 202000, \"country\": \"United States\", \"age\": 92, \"males\": 81100, \"year\": 2010, \"total\": 283000}, {\"females\": 164000, \"country\": \"United States\", \"age\": 93, \"males\": 61000, \"year\": 2010, \"total\": 225000}, {\"females\": 131000, \"country\": \"United States\", \"age\": 94, \"males\": 46300, \"year\": 2010, \"total\": 178000}, {\"females\": 101000, \"country\": \"United States\", \"age\": 95, \"males\": 33400, \"year\": 2010, \"total\": 134000}, {\"females\": 72700, \"country\": \"United States\", \"age\": 96, \"males\": 22700, \"year\": 2010, \"total\": 95400}, {\"females\": 50300, \"country\": \"United States\", \"age\": 97, \"males\": 14500, \"year\": 2010, \"total\": 64800}, {\"females\": 35000, \"country\": \"United States\", \"age\": 98, \"males\": 8730, \"year\": 2010, \"total\": 43700}, {\"females\": 25200, \"country\": \"United States\", \"age\": 99, \"males\": 4920, \"year\": 2010, \"total\": 30100}, {\"females\": 51200, \"country\": \"United States\", \"age\": 100, \"males\": 9570, \"year\": 2010, \"total\": 60800}]'"
      ]
     },
     "execution_count": 36,
     "metadata": {},
     "output_type": "execute_result"
    }
   ],
   "source": [
    "#viewing the data\n",
    "get_request.text"
   ]
  },
  {
   "cell_type": "code",
   "execution_count": 38,
   "metadata": {},
   "outputs": [],
   "source": [
    "#saving the data\n",
    "popdata = json.loads(get_request.text)"
   ]
  },
  {
   "cell_type": "markdown",
   "metadata": {},
   "source": [
    "#### Cleaning the Data"
   ]
  },
  {
   "cell_type": "code",
   "execution_count": 322,
   "metadata": {},
   "outputs": [
    {
     "data": {
      "text/html": [
       "<div>\n",
       "<style scoped>\n",
       "    .dataframe tbody tr th:only-of-type {\n",
       "        vertical-align: middle;\n",
       "    }\n",
       "\n",
       "    .dataframe tbody tr th {\n",
       "        vertical-align: top;\n",
       "    }\n",
       "\n",
       "    .dataframe thead th {\n",
       "        text-align: right;\n",
       "    }\n",
       "</style>\n",
       "<table border=\"1\" class=\"dataframe\">\n",
       "  <thead>\n",
       "    <tr style=\"text-align: right;\">\n",
       "      <th></th>\n",
       "      <th>age</th>\n",
       "      <th>country</th>\n",
       "      <th>females</th>\n",
       "      <th>males</th>\n",
       "      <th>total</th>\n",
       "      <th>year</th>\n",
       "    </tr>\n",
       "  </thead>\n",
       "  <tbody>\n",
       "    <tr>\n",
       "      <th>0</th>\n",
       "      <td>0</td>\n",
       "      <td>United States</td>\n",
       "      <td>1966000</td>\n",
       "      <td>2054000</td>\n",
       "      <td>4019000</td>\n",
       "      <td>2010</td>\n",
       "    </tr>\n",
       "    <tr>\n",
       "      <th>1</th>\n",
       "      <td>1</td>\n",
       "      <td>United States</td>\n",
       "      <td>1973000</td>\n",
       "      <td>2056000</td>\n",
       "      <td>4030000</td>\n",
       "      <td>2010</td>\n",
       "    </tr>\n",
       "    <tr>\n",
       "      <th>2</th>\n",
       "      <td>2</td>\n",
       "      <td>United States</td>\n",
       "      <td>1979000</td>\n",
       "      <td>2059000</td>\n",
       "      <td>4038000</td>\n",
       "      <td>2010</td>\n",
       "    </tr>\n",
       "    <tr>\n",
       "      <th>3</th>\n",
       "      <td>3</td>\n",
       "      <td>United States</td>\n",
       "      <td>1983000</td>\n",
       "      <td>2061000</td>\n",
       "      <td>4043000</td>\n",
       "      <td>2010</td>\n",
       "    </tr>\n",
       "    <tr>\n",
       "      <th>4</th>\n",
       "      <td>4</td>\n",
       "      <td>United States</td>\n",
       "      <td>1985000</td>\n",
       "      <td>2063000</td>\n",
       "      <td>4048000</td>\n",
       "      <td>2010</td>\n",
       "    </tr>\n",
       "  </tbody>\n",
       "</table>\n",
       "</div>"
      ],
      "text/plain": [
       "   age        country  females    males    total  year\n",
       "0    0  United States  1966000  2054000  4019000  2010\n",
       "1    1  United States  1973000  2056000  4030000  2010\n",
       "2    2  United States  1979000  2059000  4038000  2010\n",
       "3    3  United States  1983000  2061000  4043000  2010\n",
       "4    4  United States  1985000  2063000  4048000  2010"
      ]
     },
     "execution_count": 322,
     "metadata": {},
     "output_type": "execute_result"
    }
   ],
   "source": [
    "#formatting data into a data frame\n",
    "popdataframe = pd.DataFrame(popdata)\n",
    "popdataframe.head()"
   ]
  },
  {
   "cell_type": "code",
   "execution_count": 335,
   "metadata": {},
   "outputs": [
    {
     "name": "stdout",
     "output_type": "stream",
     "text": [
      "<class 'pandas.core.frame.DataFrame'>\n",
      "RangeIndex: 101 entries, 0 to 100\n",
      "Data columns (total 6 columns):\n",
      "age        101 non-null int64\n",
      "country    101 non-null object\n",
      "females    101 non-null int64\n",
      "males      101 non-null int64\n",
      "total      101 non-null int64\n",
      "year       101 non-null int64\n",
      "dtypes: int64(5), object(1)\n",
      "memory usage: 4.8+ KB\n"
     ]
    }
   ],
   "source": [
    "popdataframe.info()"
   ]
  },
  {
   "cell_type": "code",
   "execution_count": 248,
   "metadata": {},
   "outputs": [
    {
     "data": {
      "text/plain": [
       "False"
      ]
     },
     "execution_count": 248,
     "metadata": {},
     "output_type": "execute_result"
    }
   ],
   "source": [
    "#testing for missing data\n",
    "popdataframe.isnull().values.any()"
   ]
  },
  {
   "cell_type": "code",
   "execution_count": 253,
   "metadata": {},
   "outputs": [
    {
     "data": {
      "text/html": [
       "<div>\n",
       "<style scoped>\n",
       "    .dataframe tbody tr th:only-of-type {\n",
       "        vertical-align: middle;\n",
       "    }\n",
       "\n",
       "    .dataframe tbody tr th {\n",
       "        vertical-align: top;\n",
       "    }\n",
       "\n",
       "    .dataframe thead th {\n",
       "        text-align: right;\n",
       "    }\n",
       "</style>\n",
       "<table border=\"1\" class=\"dataframe\">\n",
       "  <thead>\n",
       "    <tr style=\"text-align: right;\">\n",
       "      <th></th>\n",
       "      <th>0</th>\n",
       "      <th>1</th>\n",
       "      <th>2</th>\n",
       "      <th>3</th>\n",
       "      <th>4</th>\n",
       "      <th>5</th>\n",
       "      <th>6</th>\n",
       "      <th>7</th>\n",
       "      <th>8</th>\n",
       "      <th>9</th>\n",
       "      <th>...</th>\n",
       "      <th>91</th>\n",
       "      <th>92</th>\n",
       "      <th>93</th>\n",
       "      <th>94</th>\n",
       "      <th>95</th>\n",
       "      <th>96</th>\n",
       "      <th>97</th>\n",
       "      <th>98</th>\n",
       "      <th>99</th>\n",
       "      <th>100</th>\n",
       "    </tr>\n",
       "  </thead>\n",
       "  <tbody>\n",
       "    <tr>\n",
       "      <th>0</th>\n",
       "      <td>1</td>\n",
       "      <td>0</td>\n",
       "      <td>0</td>\n",
       "      <td>0</td>\n",
       "      <td>0</td>\n",
       "      <td>0</td>\n",
       "      <td>0</td>\n",
       "      <td>0</td>\n",
       "      <td>0</td>\n",
       "      <td>0</td>\n",
       "      <td>...</td>\n",
       "      <td>0</td>\n",
       "      <td>0</td>\n",
       "      <td>0</td>\n",
       "      <td>0</td>\n",
       "      <td>0</td>\n",
       "      <td>0</td>\n",
       "      <td>0</td>\n",
       "      <td>0</td>\n",
       "      <td>0</td>\n",
       "      <td>0</td>\n",
       "    </tr>\n",
       "    <tr>\n",
       "      <th>1</th>\n",
       "      <td>0</td>\n",
       "      <td>1</td>\n",
       "      <td>0</td>\n",
       "      <td>0</td>\n",
       "      <td>0</td>\n",
       "      <td>0</td>\n",
       "      <td>0</td>\n",
       "      <td>0</td>\n",
       "      <td>0</td>\n",
       "      <td>0</td>\n",
       "      <td>...</td>\n",
       "      <td>0</td>\n",
       "      <td>0</td>\n",
       "      <td>0</td>\n",
       "      <td>0</td>\n",
       "      <td>0</td>\n",
       "      <td>0</td>\n",
       "      <td>0</td>\n",
       "      <td>0</td>\n",
       "      <td>0</td>\n",
       "      <td>0</td>\n",
       "    </tr>\n",
       "    <tr>\n",
       "      <th>2</th>\n",
       "      <td>0</td>\n",
       "      <td>0</td>\n",
       "      <td>1</td>\n",
       "      <td>0</td>\n",
       "      <td>0</td>\n",
       "      <td>0</td>\n",
       "      <td>0</td>\n",
       "      <td>0</td>\n",
       "      <td>0</td>\n",
       "      <td>0</td>\n",
       "      <td>...</td>\n",
       "      <td>0</td>\n",
       "      <td>0</td>\n",
       "      <td>0</td>\n",
       "      <td>0</td>\n",
       "      <td>0</td>\n",
       "      <td>0</td>\n",
       "      <td>0</td>\n",
       "      <td>0</td>\n",
       "      <td>0</td>\n",
       "      <td>0</td>\n",
       "    </tr>\n",
       "    <tr>\n",
       "      <th>3</th>\n",
       "      <td>0</td>\n",
       "      <td>0</td>\n",
       "      <td>0</td>\n",
       "      <td>1</td>\n",
       "      <td>0</td>\n",
       "      <td>0</td>\n",
       "      <td>0</td>\n",
       "      <td>0</td>\n",
       "      <td>0</td>\n",
       "      <td>0</td>\n",
       "      <td>...</td>\n",
       "      <td>0</td>\n",
       "      <td>0</td>\n",
       "      <td>0</td>\n",
       "      <td>0</td>\n",
       "      <td>0</td>\n",
       "      <td>0</td>\n",
       "      <td>0</td>\n",
       "      <td>0</td>\n",
       "      <td>0</td>\n",
       "      <td>0</td>\n",
       "    </tr>\n",
       "    <tr>\n",
       "      <th>4</th>\n",
       "      <td>0</td>\n",
       "      <td>0</td>\n",
       "      <td>0</td>\n",
       "      <td>0</td>\n",
       "      <td>1</td>\n",
       "      <td>0</td>\n",
       "      <td>0</td>\n",
       "      <td>0</td>\n",
       "      <td>0</td>\n",
       "      <td>0</td>\n",
       "      <td>...</td>\n",
       "      <td>0</td>\n",
       "      <td>0</td>\n",
       "      <td>0</td>\n",
       "      <td>0</td>\n",
       "      <td>0</td>\n",
       "      <td>0</td>\n",
       "      <td>0</td>\n",
       "      <td>0</td>\n",
       "      <td>0</td>\n",
       "      <td>0</td>\n",
       "    </tr>\n",
       "  </tbody>\n",
       "</table>\n",
       "<p>5 rows × 101 columns</p>\n",
       "</div>"
      ],
      "text/plain": [
       "   0    1    2    3    4    5    6    7    8    9   ...   91   92   93   94   \\\n",
       "0    1    0    0    0    0    0    0    0    0    0 ...     0    0    0    0   \n",
       "1    0    1    0    0    0    0    0    0    0    0 ...     0    0    0    0   \n",
       "2    0    0    1    0    0    0    0    0    0    0 ...     0    0    0    0   \n",
       "3    0    0    0    1    0    0    0    0    0    0 ...     0    0    0    0   \n",
       "4    0    0    0    0    1    0    0    0    0    0 ...     0    0    0    0   \n",
       "\n",
       "   95   96   97   98   99   100  \n",
       "0    0    0    0    0    0    0  \n",
       "1    0    0    0    0    0    0  \n",
       "2    0    0    0    0    0    0  \n",
       "3    0    0    0    0    0    0  \n",
       "4    0    0    0    0    0    0  \n",
       "\n",
       "[5 rows x 101 columns]"
      ]
     },
     "execution_count": 253,
     "metadata": {},
     "output_type": "execute_result"
    }
   ],
   "source": [
    "#creating a dummy variabel fro age, can be useful in controlling for certain groups in regressions, would just append to end of the dataframe\n",
    "pd.get_dummies(popdataframe[\"age\"]).head()"
   ]
  },
  {
   "cell_type": "code",
   "execution_count": 262,
   "metadata": {},
   "outputs": [
    {
     "data": {
      "text/plain": [
       "age         int64\n",
       "country    object\n",
       "females     int64\n",
       "males       int64\n",
       "total       int64\n",
       "year        int64\n",
       "dtype: object"
      ]
     },
     "execution_count": 262,
     "metadata": {},
     "output_type": "execute_result"
    }
   ],
   "source": [
    "popdataframe.dtypes"
   ]
  },
  {
   "cell_type": "code",
   "execution_count": 251,
   "metadata": {},
   "outputs": [],
   "source": [
    "#rescaling the data with standardscaler\n",
    "from sklearn.preprocessing import StandardScaler"
   ]
  },
  {
   "cell_type": "code",
   "execution_count": 284,
   "metadata": {},
   "outputs": [
    {
     "name": "stdout",
     "output_type": "stream",
     "text": [
      "0   -5.276307e-17\n",
      "1    1.055261e-16\n",
      "2   -3.847308e-16\n",
      "dtype: float64\n",
      "0    1.0\n",
      "1    1.0\n",
      "2    1.0\n",
      "dtype: float64\n"
     ]
    },
    {
     "name": "stderr",
     "output_type": "stream",
     "text": [
      "/Users/mikepriorusa/anaconda3/lib/python3.7/site-packages/sklearn/preprocessing/data.py:625: DataConversionWarning: Data with input dtype int64 were all converted to float64 by StandardScaler.\n",
      "  return self.partial_fit(X, y)\n",
      "/Users/mikepriorusa/anaconda3/lib/python3.7/site-packages/sklearn/base.py:462: DataConversionWarning: Data with input dtype int64 were all converted to float64 by StandardScaler.\n",
      "  return self.fit(X, **fit_params).transform(X)\n"
     ]
    }
   ],
   "source": [
    "\n",
    "standard = StandardScaler()\n",
    "standard_pop = pd.DataFrame(standard.fit_transform(popdataframe[['females', 'males', 'total']]))\n",
    "print(np.mean(standard_pop, 0))\n",
    "print(np.std(standard_pop, 0))"
   ]
  },
  {
   "cell_type": "code",
   "execution_count": 285,
   "metadata": {},
   "outputs": [
    {
     "data": {
      "text/html": [
       "<div>\n",
       "<style scoped>\n",
       "    .dataframe tbody tr th:only-of-type {\n",
       "        vertical-align: middle;\n",
       "    }\n",
       "\n",
       "    .dataframe tbody tr th {\n",
       "        vertical-align: top;\n",
       "    }\n",
       "\n",
       "    .dataframe thead th {\n",
       "        text-align: right;\n",
       "    }\n",
       "</style>\n",
       "<table border=\"1\" class=\"dataframe\">\n",
       "  <thead>\n",
       "    <tr style=\"text-align: right;\">\n",
       "      <th></th>\n",
       "      <th>0</th>\n",
       "      <th>1</th>\n",
       "      <th>2</th>\n",
       "    </tr>\n",
       "  </thead>\n",
       "  <tbody>\n",
       "    <tr>\n",
       "      <th>0</th>\n",
       "      <td>0.565489</td>\n",
       "      <td>0.657319</td>\n",
       "      <td>0.614001</td>\n",
       "    </tr>\n",
       "    <tr>\n",
       "      <th>1</th>\n",
       "      <td>0.575013</td>\n",
       "      <td>0.659770</td>\n",
       "      <td>0.621103</td>\n",
       "    </tr>\n",
       "    <tr>\n",
       "      <th>2</th>\n",
       "      <td>0.583177</td>\n",
       "      <td>0.663448</td>\n",
       "      <td>0.626269</td>\n",
       "    </tr>\n",
       "    <tr>\n",
       "      <th>3</th>\n",
       "      <td>0.588619</td>\n",
       "      <td>0.665899</td>\n",
       "      <td>0.629497</td>\n",
       "    </tr>\n",
       "    <tr>\n",
       "      <th>4</th>\n",
       "      <td>0.591341</td>\n",
       "      <td>0.668351</td>\n",
       "      <td>0.632726</td>\n",
       "    </tr>\n",
       "  </tbody>\n",
       "</table>\n",
       "</div>"
      ],
      "text/plain": [
       "          0         1         2\n",
       "0  0.565489  0.657319  0.614001\n",
       "1  0.575013  0.659770  0.621103\n",
       "2  0.583177  0.663448  0.626269\n",
       "3  0.588619  0.665899  0.629497\n",
       "4  0.591341  0.668351  0.632726"
      ]
     },
     "execution_count": 285,
     "metadata": {},
     "output_type": "execute_result"
    }
   ],
   "source": [
    "standard_pop.head()"
   ]
  },
  {
   "cell_type": "code",
   "execution_count": 292,
   "metadata": {},
   "outputs": [
    {
     "data": {
      "text/plain": [
       "(101, 3)"
      ]
     },
     "execution_count": 292,
     "metadata": {},
     "output_type": "execute_result"
    }
   ],
   "source": [
    "standard_pop.shape"
   ]
  },
  {
   "cell_type": "code",
   "execution_count": 316,
   "metadata": {},
   "outputs": [],
   "source": [
    "#creating a new dataframe with standard scale\n",
    "standard_popdf = pd.concat([popdataframe, standard_pop], axis=1, sort=False)"
   ]
  },
  {
   "cell_type": "code",
   "execution_count": 317,
   "metadata": {},
   "outputs": [
    {
     "data": {
      "text/html": [
       "<div>\n",
       "<style scoped>\n",
       "    .dataframe tbody tr th:only-of-type {\n",
       "        vertical-align: middle;\n",
       "    }\n",
       "\n",
       "    .dataframe tbody tr th {\n",
       "        vertical-align: top;\n",
       "    }\n",
       "\n",
       "    .dataframe thead th {\n",
       "        text-align: right;\n",
       "    }\n",
       "</style>\n",
       "<table border=\"1\" class=\"dataframe\">\n",
       "  <thead>\n",
       "    <tr style=\"text-align: right;\">\n",
       "      <th></th>\n",
       "      <th>age</th>\n",
       "      <th>country</th>\n",
       "      <th>females</th>\n",
       "      <th>males</th>\n",
       "      <th>total</th>\n",
       "      <th>year</th>\n",
       "      <th>0</th>\n",
       "      <th>1</th>\n",
       "      <th>2</th>\n",
       "    </tr>\n",
       "  </thead>\n",
       "  <tbody>\n",
       "    <tr>\n",
       "      <th>0</th>\n",
       "      <td>0</td>\n",
       "      <td>United States</td>\n",
       "      <td>1966000</td>\n",
       "      <td>2054000</td>\n",
       "      <td>4019000</td>\n",
       "      <td>2010</td>\n",
       "      <td>0.565489</td>\n",
       "      <td>0.657319</td>\n",
       "      <td>0.614001</td>\n",
       "    </tr>\n",
       "    <tr>\n",
       "      <th>1</th>\n",
       "      <td>1</td>\n",
       "      <td>United States</td>\n",
       "      <td>1973000</td>\n",
       "      <td>2056000</td>\n",
       "      <td>4030000</td>\n",
       "      <td>2010</td>\n",
       "      <td>0.575013</td>\n",
       "      <td>0.659770</td>\n",
       "      <td>0.621103</td>\n",
       "    </tr>\n",
       "    <tr>\n",
       "      <th>2</th>\n",
       "      <td>2</td>\n",
       "      <td>United States</td>\n",
       "      <td>1979000</td>\n",
       "      <td>2059000</td>\n",
       "      <td>4038000</td>\n",
       "      <td>2010</td>\n",
       "      <td>0.583177</td>\n",
       "      <td>0.663448</td>\n",
       "      <td>0.626269</td>\n",
       "    </tr>\n",
       "    <tr>\n",
       "      <th>3</th>\n",
       "      <td>3</td>\n",
       "      <td>United States</td>\n",
       "      <td>1983000</td>\n",
       "      <td>2061000</td>\n",
       "      <td>4043000</td>\n",
       "      <td>2010</td>\n",
       "      <td>0.588619</td>\n",
       "      <td>0.665899</td>\n",
       "      <td>0.629497</td>\n",
       "    </tr>\n",
       "    <tr>\n",
       "      <th>4</th>\n",
       "      <td>4</td>\n",
       "      <td>United States</td>\n",
       "      <td>1985000</td>\n",
       "      <td>2063000</td>\n",
       "      <td>4048000</td>\n",
       "      <td>2010</td>\n",
       "      <td>0.591341</td>\n",
       "      <td>0.668351</td>\n",
       "      <td>0.632726</td>\n",
       "    </tr>\n",
       "  </tbody>\n",
       "</table>\n",
       "</div>"
      ],
      "text/plain": [
       "   age        country  females    males    total  year         0         1  \\\n",
       "0    0  United States  1966000  2054000  4019000  2010  0.565489  0.657319   \n",
       "1    1  United States  1973000  2056000  4030000  2010  0.575013  0.659770   \n",
       "2    2  United States  1979000  2059000  4038000  2010  0.583177  0.663448   \n",
       "3    3  United States  1983000  2061000  4043000  2010  0.588619  0.665899   \n",
       "4    4  United States  1985000  2063000  4048000  2010  0.591341  0.668351   \n",
       "\n",
       "          2  \n",
       "0  0.614001  \n",
       "1  0.621103  \n",
       "2  0.626269  \n",
       "3  0.629497  \n",
       "4  0.632726  "
      ]
     },
     "execution_count": 317,
     "metadata": {},
     "output_type": "execute_result"
    }
   ],
   "source": [
    "standard_popdf.head()"
   ]
  },
  {
   "cell_type": "code",
   "execution_count": 318,
   "metadata": {},
   "outputs": [],
   "source": [
    "standard_popdf = standard_popdf.drop([\"females\", \"males\", \"total\"], axis=1)\n"
   ]
  },
  {
   "cell_type": "code",
   "execution_count": 319,
   "metadata": {},
   "outputs": [],
   "source": [
    "standard_popdf.columns = ['age', 'country', 'year', 'females', 'males', 'total']"
   ]
  },
  {
   "cell_type": "code",
   "execution_count": 320,
   "metadata": {},
   "outputs": [
    {
     "data": {
      "text/html": [
       "<div>\n",
       "<style scoped>\n",
       "    .dataframe tbody tr th:only-of-type {\n",
       "        vertical-align: middle;\n",
       "    }\n",
       "\n",
       "    .dataframe tbody tr th {\n",
       "        vertical-align: top;\n",
       "    }\n",
       "\n",
       "    .dataframe thead th {\n",
       "        text-align: right;\n",
       "    }\n",
       "</style>\n",
       "<table border=\"1\" class=\"dataframe\">\n",
       "  <thead>\n",
       "    <tr style=\"text-align: right;\">\n",
       "      <th></th>\n",
       "      <th>age</th>\n",
       "      <th>country</th>\n",
       "      <th>year</th>\n",
       "      <th>females</th>\n",
       "      <th>males</th>\n",
       "      <th>total</th>\n",
       "    </tr>\n",
       "  </thead>\n",
       "  <tbody>\n",
       "    <tr>\n",
       "      <th>0</th>\n",
       "      <td>0</td>\n",
       "      <td>United States</td>\n",
       "      <td>2010</td>\n",
       "      <td>0.565489</td>\n",
       "      <td>0.657319</td>\n",
       "      <td>0.614001</td>\n",
       "    </tr>\n",
       "    <tr>\n",
       "      <th>1</th>\n",
       "      <td>1</td>\n",
       "      <td>United States</td>\n",
       "      <td>2010</td>\n",
       "      <td>0.575013</td>\n",
       "      <td>0.659770</td>\n",
       "      <td>0.621103</td>\n",
       "    </tr>\n",
       "    <tr>\n",
       "      <th>2</th>\n",
       "      <td>2</td>\n",
       "      <td>United States</td>\n",
       "      <td>2010</td>\n",
       "      <td>0.583177</td>\n",
       "      <td>0.663448</td>\n",
       "      <td>0.626269</td>\n",
       "    </tr>\n",
       "    <tr>\n",
       "      <th>3</th>\n",
       "      <td>3</td>\n",
       "      <td>United States</td>\n",
       "      <td>2010</td>\n",
       "      <td>0.588619</td>\n",
       "      <td>0.665899</td>\n",
       "      <td>0.629497</td>\n",
       "    </tr>\n",
       "    <tr>\n",
       "      <th>4</th>\n",
       "      <td>4</td>\n",
       "      <td>United States</td>\n",
       "      <td>2010</td>\n",
       "      <td>0.591341</td>\n",
       "      <td>0.668351</td>\n",
       "      <td>0.632726</td>\n",
       "    </tr>\n",
       "  </tbody>\n",
       "</table>\n",
       "</div>"
      ],
      "text/plain": [
       "   age        country  year   females     males     total\n",
       "0    0  United States  2010  0.565489  0.657319  0.614001\n",
       "1    1  United States  2010  0.575013  0.659770  0.621103\n",
       "2    2  United States  2010  0.583177  0.663448  0.626269\n",
       "3    3  United States  2010  0.588619  0.665899  0.629497\n",
       "4    4  United States  2010  0.591341  0.668351  0.632726"
      ]
     },
     "execution_count": 320,
     "metadata": {},
     "output_type": "execute_result"
    }
   ],
   "source": [
    "standard_popdf.head()"
   ]
  },
  {
   "cell_type": "markdown",
   "metadata": {},
   "source": [
    "#### Describing the Data"
   ]
  },
  {
   "cell_type": "code",
   "execution_count": 361,
   "metadata": {},
   "outputs": [
    {
     "data": {
      "text/html": [
       "<div>\n",
       "<style scoped>\n",
       "    .dataframe tbody tr th:only-of-type {\n",
       "        vertical-align: middle;\n",
       "    }\n",
       "\n",
       "    .dataframe tbody tr th {\n",
       "        vertical-align: top;\n",
       "    }\n",
       "\n",
       "    .dataframe thead th {\n",
       "        text-align: right;\n",
       "    }\n",
       "</style>\n",
       "<table border=\"1\" class=\"dataframe\">\n",
       "  <thead>\n",
       "    <tr style=\"text-align: right;\">\n",
       "      <th></th>\n",
       "      <th>age</th>\n",
       "      <th>females</th>\n",
       "      <th>males</th>\n",
       "      <th>total</th>\n",
       "      <th>year</th>\n",
       "    </tr>\n",
       "  </thead>\n",
       "  <tbody>\n",
       "    <tr>\n",
       "      <th>count</th>\n",
       "      <td>101.0</td>\n",
       "      <td>101.00</td>\n",
       "      <td>101.00</td>\n",
       "      <td>101.00</td>\n",
       "      <td>101.0</td>\n",
       "    </tr>\n",
       "    <tr>\n",
       "      <th>mean</th>\n",
       "      <td>50.0</td>\n",
       "      <td>1550380.20</td>\n",
       "      <td>1517774.46</td>\n",
       "      <td>3068077.23</td>\n",
       "      <td>2010.0</td>\n",
       "    </tr>\n",
       "    <tr>\n",
       "      <th>std</th>\n",
       "      <td>29.3</td>\n",
       "      <td>738639.48</td>\n",
       "      <td>819845.86</td>\n",
       "      <td>1556457.04</td>\n",
       "      <td>0.0</td>\n",
       "    </tr>\n",
       "    <tr>\n",
       "      <th>min</th>\n",
       "      <td>0.0</td>\n",
       "      <td>25200.00</td>\n",
       "      <td>4920.00</td>\n",
       "      <td>30100.00</td>\n",
       "      <td>2010.0</td>\n",
       "    </tr>\n",
       "    <tr>\n",
       "      <th>25%</th>\n",
       "      <td>25.0</td>\n",
       "      <td>882000.00</td>\n",
       "      <td>726000.00</td>\n",
       "      <td>1607000.00</td>\n",
       "      <td>2010.0</td>\n",
       "    </tr>\n",
       "    <tr>\n",
       "      <th>50%</th>\n",
       "      <td>50.0</td>\n",
       "      <td>1989000.00</td>\n",
       "      <td>2044000.00</td>\n",
       "      <td>4038000.00</td>\n",
       "      <td>2010.0</td>\n",
       "    </tr>\n",
       "    <tr>\n",
       "      <th>75%</th>\n",
       "      <td>75.0</td>\n",
       "      <td>2088000.00</td>\n",
       "      <td>2142000.00</td>\n",
       "      <td>4234000.00</td>\n",
       "      <td>2010.0</td>\n",
       "    </tr>\n",
       "    <tr>\n",
       "      <th>max</th>\n",
       "      <td>100.0</td>\n",
       "      <td>2310000.00</td>\n",
       "      <td>2296000.00</td>\n",
       "      <td>4606000.00</td>\n",
       "      <td>2010.0</td>\n",
       "    </tr>\n",
       "  </tbody>\n",
       "</table>\n",
       "</div>"
      ],
      "text/plain": [
       "         age     females       males       total    year\n",
       "count  101.0      101.00      101.00      101.00   101.0\n",
       "mean    50.0  1550380.20  1517774.46  3068077.23  2010.0\n",
       "std     29.3   738639.48   819845.86  1556457.04     0.0\n",
       "min      0.0    25200.00     4920.00    30100.00  2010.0\n",
       "25%     25.0   882000.00   726000.00  1607000.00  2010.0\n",
       "50%     50.0  1989000.00  2044000.00  4038000.00  2010.0\n",
       "75%     75.0  2088000.00  2142000.00  4234000.00  2010.0\n",
       "max    100.0  2310000.00  2296000.00  4606000.00  2010.0"
      ]
     },
     "execution_count": 361,
     "metadata": {},
     "output_type": "execute_result"
    }
   ],
   "source": [
    "#non standard data\n",
    "pop_data_description=popdataframe.describe()\n",
    "pop_data_description.round(2)"
   ]
  },
  {
   "cell_type": "code",
   "execution_count": 440,
   "metadata": {},
   "outputs": [
    {
     "data": {
      "image/png": "[encoded data removed]",
      "text/plain": [
       "<Figure size 432x288 with 1 Axes>"
      ]
     },
     "metadata": {
      "needs_background": "light"
     },
     "output_type": "display_data"
    }
   ],
   "source": [
    "line1 = sns.lineplot(popdataframe.age, popdataframe.males, label='males').set_title('Population by Gender')\n",
    "line2 = sns.lineplot(popdataframe.age, popdataframe.females, label='females')\n"
   ]
  },
  {
   "cell_type": "markdown",
   "metadata": {},
   "source": [
    "## Importing a CSV file into Python"
   ]
  },
  {
   "cell_type": "markdown",
   "metadata": {},
   "source": [
    "#### Reading in data"
   ]
  },
  {
   "cell_type": "code",
   "execution_count": 387,
   "metadata": {},
   "outputs": [],
   "source": [
    "#used file instead of URL link because when I tried importing from URL it was having issues with the missing data not loading\n",
    "freedom_index = pd.read_csv(\"hfi_cc_2018.csv\")\n"
   ]
  },
  {
   "cell_type": "markdown",
   "metadata": {},
   "source": [
    "freedom_index dataframe column name definitions:\n",
    "\n",
    "- year\n",
    "-  ISO_code\n",
    "-  countries\n",
    "-  region\n",
    "-  pf_rol_proceduralProcedural justice \n",
    "-  pf_rol_civilCivil justice\n",
    "-  pf_rol_criminalCriminal justice\n",
    "-  pf_rolRule of law\n",
    "-  pf_ss_homicideHomicide\n",
    "-  pf_ss_disappearances_disapDisappearances\n",
    "-  pf_ss_disappearances_violentViolent conflicts\n",
    "-  pf_ss_disappearances_organizedOrganized conflicts\n",
    "-  pf_ss_disappearances_fatalitiesTerrorism fatalities\n",
    "-  pf_ss_disappearances_injuriesTerrorism injuries\n",
    "-  pf_ss_disappearancesDisappearances, conflict, and terrorism\n",
    "- pf_ss_women_fgmFemale genital mutilation\n",
    "- pf_ss_women_missingMissing women\n",
    "- pf_ss_women_inheritance_widowsInheritance rights for widows\n",
    "- pf_ss_women_inheritance_daughtersInheritance rights for daughters\n",
    "- pf_ss_women_inheritanceInheritance\n",
    "- pf_ss_womenWomen's security\n",
    "- pf_ssSecurity and safety\n",
    "- pf_movement_domesticFreedom of domestic movement\n",
    "- pf_movement_foreignFreedom of foreign movement\n",
    "- pf_movement_womenWomen's movement\n",
    "- pf_movementFreedom of movement\n",
    "- pf_religion_estop_establishFreedom to establish religious organizations\n",
    "- pf_religion_estop_operateFreedom to operate religious organizations\n",
    "- pf_religion_estopFreedom to establish and operate religious organizations\n",
    "- pf_religion_harassmentHarassment and physical hostilities\n",
    "- pf_religion_restrictionsLegal and regulatory restrictions\n",
    "- pf_religionReligious freedom\n",
    "- pf_association_associationFreedom of association\n",
    "- pf_association_assemblyFreedom of assembly\n",
    "- pf_association_political_establishFreedom to establish political parties\n",
    "- pf_association_political_operateFreedom to operate political parties\n",
    "- pf_association_politicalFreedom to establish and operate political parties\n",
    "- pf_association_prof_establishFreedom to establish professional organizations\n",
    "- pf_association_prof_operateFreedom to operate professional organizations\n",
    "- pf_association_profFreedom to establish and operate professional organizations\n",
    "- pf_association_sport_establishFreedom to establish educational, sporting, and cultural organizations\n",
    "- pf_association_sport_operateFreedom to operate educational, sporting, and cultural organizations\n",
    "- pf_association_sportFreedom to establish and operate educational, sporting, and cultural organizations\n",
    "- pf_associationFreedom to associate and assemble with peaceful individuals or organizations\n",
    "- pf_expression_killedPress killed\n",
    "- pf_expression_jailedPress jailed\n",
    "- pf_expression_influenceLaws and regulations that influence media content\n",
    "- pf_expression_controlPolitical pressures and controls on media content\n",
    "- pf_expression_cableAccess to cable/satellite\n",
    "- pf_expression_newspapersAccess to foreign newspapers\n",
    "- pf_expression_internetState control over Internet access\n",
    "- pf_expressionFreedom of expression\n",
    "- pf_identity_legalLegal gender\n",
    "- pf_identity_parental_marriageParental rights in marriage\n",
    "- pf_identity_parental_divorceParental rights after divorce\n",
    "- pf_identity_parentalParental rights\n",
    "- pf_identity_sex_maleMale-to-male relationships\n",
    "- pf_identity_sex_femaleFemale-to-female relationships\n",
    "- pf_identity_sexSame-sex ralitionships\n",
    "- pf_identity_divorceDivorce\n",
    "- pf_identityIdentity and relationships\n",
    "- pf_scorePersonal Freedom (score)\n",
    "- pf_rankPersonal Freedom (rank)\n",
    "- ef_government_consumptionGovernment consumption\n",
    "- ef_government_transfersTransfers and subsidies\n",
    "- ef_government_enterprisesGovernment enterprises and investments\n",
    "- ef_government_tax_incomeTop marginal income tax rate\n",
    "- ef_government_tax_payrollTop marginal income and payroll tax rate\n",
    "- ef_government_taxTop marginal tax rate\n",
    "- ef_governmentSize of government\n",
    "- ef_legal_judicialJudicial independence\n",
    "- ef_legal_courtsImpartial courts\n",
    "- ef_legal_protectionProtection of property rights\n",
    "- ef_legal_militaryMilitary interference in rule of law and politics\n",
    "- ef_legal_integrityIntegrity of the legal system\n",
    "- ef_legal_enforcementLegal enforcement of contracts\n",
    "- ef_legal_restrictionsRegulatory restrictions on the sale of real property\n",
    "- ef_legal_policeReliability of police\n",
    "- ef_legal_crimeBusiness costs of crime\n",
    "- ef_legal_genderGender adjustment\n",
    "- ef_legalLegal system and property rights\n",
    "- ef_money_growthMoney growth\n",
    "- ef_money_sdStandard deviation of inflation\n",
    "- ef_money_inflationInflation: most recent year\n",
    "- ef_money_currencyFreedom to own foreign currency bank account\n",
    "- ef_moneySound money\n",
    "- ef_trade_tariffs_revenueRevenue from trade taxes (% of trade sector)\n",
    "- ef_trade_tariffs_meanMean tariff rate\n",
    "- ef_trade_tariffs_sdStandard deviation of tariffs rates\n",
    "- ef_trade_tariffsTariffs\n",
    "- ef_trade_regulatory_nontariffNontariff trade barriers\n",
    "- ef_trade_regulatory_complianceCompliance costs of importing and exporting\n",
    "- ef_trade_regulatoryRegulatory trade barriers\n",
    "- ef_trade_blackBlack-market exchange rates\n",
    "- ef_trade_movement_foreignForeign ownership/investment restrictions\n",
    "- ef_trade_movement_capitalCapital controls\n",
    "- ef_trade_movement_visitFreedom of foreigners to visit\n",
    "- ef_trade_movementControls of the movement of capital and people\n",
    "- ef_tradeFreedom to trade internationally\n",
    "- ef_regulation_credit_ownershipOwnership of banks\n",
    "- ef_regulation_credit_privatePrivate sector credit\n",
    "- ef_regulation_credit_interestInterest rate controls\n",
    "- ef_regulation_creditCredit market regulations\n",
    "- ef_regulation_labor_minwageHiring regulations and minimum wage\n",
    "- ef_regulation_labor_firingHiring and firing regulations\n",
    "- ef_regulation_labor_bargainCentralized collective bargaining\n",
    "- ef_regulation_labor_hoursHours regulations\n",
    "- ef_regulation_labor_dismissalMandated cost of worker dismissal\n",
    "- ef_regulation_labor_conscriptionConscription\n",
    "- ef_regulation_laborLabor market regulations\n",
    "- ef_regulation_business_admAdministrative requirements\n",
    "- ef_regulation_business_bureaucracyBureaucracy costs\n",
    "- ef_regulation_business_startStarting a business\n",
    "- ef_regulation_business_bribesExtra payments/bribes/favoritism\n",
    "- ef_regulation_business_licensingLicensing restrictions\n",
    "- ef_regulation_business_complianceCost of tax compliance\n",
    "- ef_regulation_businessBusiness regulations\n",
    "- ef_regulationRegulation\n",
    "- ef_scoreEconomic Freedom (score)\n",
    "- ef_rankEconomic Freedom (rank)\n",
    "- hf_scoreHuman Freedom (score)\n",
    "- hf_rankHuman Freedom (rank)\n",
    "- hf_quartileHuman Freedom (quartile)\"\"\""
   ]
  },
  {
   "cell_type": "code",
   "execution_count": 103,
   "metadata": {},
   "outputs": [
    {
     "data": {
      "text/html": [
       "<div>\n",
       "<style scoped>\n",
       "    .dataframe tbody tr th:only-of-type {\n",
       "        vertical-align: middle;\n",
       "    }\n",
       "\n",
       "    .dataframe tbody tr th {\n",
       "        vertical-align: top;\n",
       "    }\n",
       "\n",
       "    .dataframe thead th {\n",
       "        text-align: right;\n",
       "    }\n",
       "</style>\n",
       "<table border=\"1\" class=\"dataframe\">\n",
       "  <thead>\n",
       "    <tr style=\"text-align: right;\">\n",
       "      <th></th>\n",
       "      <th>year</th>\n",
       "      <th>ISO_code</th>\n",
       "      <th>countries</th>\n",
       "      <th>region</th>\n",
       "      <th>pf_rol_procedural</th>\n",
       "      <th>pf_rol_civil</th>\n",
       "      <th>pf_rol_criminal</th>\n",
       "      <th>pf_rol</th>\n",
       "      <th>pf_ss_homicide</th>\n",
       "      <th>pf_ss_disappearances_disap</th>\n",
       "      <th>...</th>\n",
       "      <th>ef_regulation_business_bribes</th>\n",
       "      <th>ef_regulation_business_licensing</th>\n",
       "      <th>ef_regulation_business_compliance</th>\n",
       "      <th>ef_regulation_business</th>\n",
       "      <th>ef_regulation</th>\n",
       "      <th>ef_score</th>\n",
       "      <th>ef_rank</th>\n",
       "      <th>hf_score</th>\n",
       "      <th>hf_rank</th>\n",
       "      <th>hf_quartile</th>\n",
       "    </tr>\n",
       "  </thead>\n",
       "  <tbody>\n",
       "    <tr>\n",
       "      <th>0</th>\n",
       "      <td>2016</td>\n",
       "      <td>ALB</td>\n",
       "      <td>Albania</td>\n",
       "      <td>Eastern Europe</td>\n",
       "      <td>6.661503</td>\n",
       "      <td>4.547244</td>\n",
       "      <td>4.666508</td>\n",
       "      <td>5.291752</td>\n",
       "      <td>8.920429</td>\n",
       "      <td>10.0</td>\n",
       "      <td>...</td>\n",
       "      <td>4.050196</td>\n",
       "      <td>7.324582</td>\n",
       "      <td>7.074366</td>\n",
       "      <td>6.705863</td>\n",
       "      <td>6.906901</td>\n",
       "      <td>7.54</td>\n",
       "      <td>34.0</td>\n",
       "      <td>7.568140</td>\n",
       "      <td>48.0</td>\n",
       "      <td>2.0</td>\n",
       "    </tr>\n",
       "    <tr>\n",
       "      <th>1</th>\n",
       "      <td>2016</td>\n",
       "      <td>DZA</td>\n",
       "      <td>Algeria</td>\n",
       "      <td>Middle East &amp; North Africa</td>\n",
       "      <td>NaN</td>\n",
       "      <td>NaN</td>\n",
       "      <td>NaN</td>\n",
       "      <td>3.819566</td>\n",
       "      <td>9.456254</td>\n",
       "      <td>10.0</td>\n",
       "      <td>...</td>\n",
       "      <td>3.765515</td>\n",
       "      <td>8.523503</td>\n",
       "      <td>7.029528</td>\n",
       "      <td>5.676956</td>\n",
       "      <td>5.268992</td>\n",
       "      <td>4.99</td>\n",
       "      <td>159.0</td>\n",
       "      <td>5.135886</td>\n",
       "      <td>155.0</td>\n",
       "      <td>4.0</td>\n",
       "    </tr>\n",
       "    <tr>\n",
       "      <th>2</th>\n",
       "      <td>2016</td>\n",
       "      <td>AGO</td>\n",
       "      <td>Angola</td>\n",
       "      <td>Sub-Saharan Africa</td>\n",
       "      <td>NaN</td>\n",
       "      <td>NaN</td>\n",
       "      <td>NaN</td>\n",
       "      <td>3.451814</td>\n",
       "      <td>8.060260</td>\n",
       "      <td>5.0</td>\n",
       "      <td>...</td>\n",
       "      <td>1.945540</td>\n",
       "      <td>8.096776</td>\n",
       "      <td>6.782923</td>\n",
       "      <td>4.930271</td>\n",
       "      <td>5.518500</td>\n",
       "      <td>5.17</td>\n",
       "      <td>155.0</td>\n",
       "      <td>5.640662</td>\n",
       "      <td>142.0</td>\n",
       "      <td>4.0</td>\n",
       "    </tr>\n",
       "    <tr>\n",
       "      <th>3</th>\n",
       "      <td>2016</td>\n",
       "      <td>ARG</td>\n",
       "      <td>Argentina</td>\n",
       "      <td>Latin America &amp; the Caribbean</td>\n",
       "      <td>7.098483</td>\n",
       "      <td>5.791960</td>\n",
       "      <td>4.343930</td>\n",
       "      <td>5.744791</td>\n",
       "      <td>7.622974</td>\n",
       "      <td>10.0</td>\n",
       "      <td>...</td>\n",
       "      <td>3.260044</td>\n",
       "      <td>5.253411</td>\n",
       "      <td>6.508295</td>\n",
       "      <td>5.535831</td>\n",
       "      <td>5.369019</td>\n",
       "      <td>4.84</td>\n",
       "      <td>160.0</td>\n",
       "      <td>6.469848</td>\n",
       "      <td>107.0</td>\n",
       "      <td>3.0</td>\n",
       "    </tr>\n",
       "    <tr>\n",
       "      <th>4</th>\n",
       "      <td>2016</td>\n",
       "      <td>ARM</td>\n",
       "      <td>Armenia</td>\n",
       "      <td>Caucasus &amp; Central Asia</td>\n",
       "      <td>NaN</td>\n",
       "      <td>NaN</td>\n",
       "      <td>NaN</td>\n",
       "      <td>5.003205</td>\n",
       "      <td>8.808750</td>\n",
       "      <td>10.0</td>\n",
       "      <td>...</td>\n",
       "      <td>4.575152</td>\n",
       "      <td>9.319612</td>\n",
       "      <td>6.491481</td>\n",
       "      <td>6.797530</td>\n",
       "      <td>7.378069</td>\n",
       "      <td>7.57</td>\n",
       "      <td>29.0</td>\n",
       "      <td>7.241402</td>\n",
       "      <td>57.0</td>\n",
       "      <td>2.0</td>\n",
       "    </tr>\n",
       "    <tr>\n",
       "      <th>5</th>\n",
       "      <td>2016</td>\n",
       "      <td>AUS</td>\n",
       "      <td>Australia</td>\n",
       "      <td>Oceania</td>\n",
       "      <td>8.439110</td>\n",
       "      <td>7.525648</td>\n",
       "      <td>7.364078</td>\n",
       "      <td>7.776279</td>\n",
       "      <td>9.623538</td>\n",
       "      <td>10.0</td>\n",
       "      <td>...</td>\n",
       "      <td>7.238900</td>\n",
       "      <td>8.944387</td>\n",
       "      <td>8.823021</td>\n",
       "      <td>8.121631</td>\n",
       "      <td>8.465526</td>\n",
       "      <td>7.98</td>\n",
       "      <td>10.0</td>\n",
       "      <td>8.582219</td>\n",
       "      <td>4.0</td>\n",
       "      <td>1.0</td>\n",
       "    </tr>\n",
       "    <tr>\n",
       "      <th>6</th>\n",
       "      <td>2016</td>\n",
       "      <td>AUT</td>\n",
       "      <td>Austria</td>\n",
       "      <td>Western Europe</td>\n",
       "      <td>8.969832</td>\n",
       "      <td>7.872188</td>\n",
       "      <td>7.673227</td>\n",
       "      <td>8.171749</td>\n",
       "      <td>9.737912</td>\n",
       "      <td>10.0</td>\n",
       "      <td>...</td>\n",
       "      <td>6.418890</td>\n",
       "      <td>7.296116</td>\n",
       "      <td>8.531578</td>\n",
       "      <td>7.419870</td>\n",
       "      <td>7.371334</td>\n",
       "      <td>7.58</td>\n",
       "      <td>27.0</td>\n",
       "      <td>8.413474</td>\n",
       "      <td>16.0</td>\n",
       "      <td>1.0</td>\n",
       "    </tr>\n",
       "    <tr>\n",
       "      <th>7</th>\n",
       "      <td>2016</td>\n",
       "      <td>AZE</td>\n",
       "      <td>Azerbaijan</td>\n",
       "      <td>Caucasus &amp; Central Asia</td>\n",
       "      <td>NaN</td>\n",
       "      <td>NaN</td>\n",
       "      <td>NaN</td>\n",
       "      <td>4.270861</td>\n",
       "      <td>9.143499</td>\n",
       "      <td>10.0</td>\n",
       "      <td>...</td>\n",
       "      <td>5.353533</td>\n",
       "      <td>6.959699</td>\n",
       "      <td>7.814181</td>\n",
       "      <td>7.080078</td>\n",
       "      <td>6.874880</td>\n",
       "      <td>6.49</td>\n",
       "      <td>106.0</td>\n",
       "      <td>6.083277</td>\n",
       "      <td>130.0</td>\n",
       "      <td>4.0</td>\n",
       "    </tr>\n",
       "    <tr>\n",
       "      <th>8</th>\n",
       "      <td>2016</td>\n",
       "      <td>BHS</td>\n",
       "      <td>Bahamas</td>\n",
       "      <td>Latin America &amp; the Caribbean</td>\n",
       "      <td>6.930835</td>\n",
       "      <td>6.008696</td>\n",
       "      <td>6.262840</td>\n",
       "      <td>6.400790</td>\n",
       "      <td>0.000000</td>\n",
       "      <td>10.0</td>\n",
       "      <td>...</td>\n",
       "      <td>NaN</td>\n",
       "      <td>7.981672</td>\n",
       "      <td>7.388227</td>\n",
       "      <td>7.523034</td>\n",
       "      <td>8.169125</td>\n",
       "      <td>7.34</td>\n",
       "      <td>49.0</td>\n",
       "      <td>7.397269</td>\n",
       "      <td>50.0</td>\n",
       "      <td>2.0</td>\n",
       "    </tr>\n",
       "    <tr>\n",
       "      <th>9</th>\n",
       "      <td>2016</td>\n",
       "      <td>BHR</td>\n",
       "      <td>Bahrain</td>\n",
       "      <td>Middle East &amp; North Africa</td>\n",
       "      <td>NaN</td>\n",
       "      <td>NaN</td>\n",
       "      <td>NaN</td>\n",
       "      <td>5.900339</td>\n",
       "      <td>9.790481</td>\n",
       "      <td>10.0</td>\n",
       "      <td>...</td>\n",
       "      <td>6.596745</td>\n",
       "      <td>8.074670</td>\n",
       "      <td>9.680534</td>\n",
       "      <td>8.018774</td>\n",
       "      <td>7.415786</td>\n",
       "      <td>7.56</td>\n",
       "      <td>30.0</td>\n",
       "      <td>6.848035</td>\n",
       "      <td>75.0</td>\n",
       "      <td>2.0</td>\n",
       "    </tr>\n",
       "  </tbody>\n",
       "</table>\n",
       "<p>10 rows × 123 columns</p>\n",
       "</div>"
      ],
      "text/plain": [
       "   year ISO_code   countries                         region  \\\n",
       "0  2016      ALB     Albania                 Eastern Europe   \n",
       "1  2016      DZA     Algeria     Middle East & North Africa   \n",
       "2  2016      AGO      Angola             Sub-Saharan Africa   \n",
       "3  2016      ARG   Argentina  Latin America & the Caribbean   \n",
       "4  2016      ARM     Armenia        Caucasus & Central Asia   \n",
       "5  2016      AUS   Australia                        Oceania   \n",
       "6  2016      AUT     Austria                 Western Europe   \n",
       "7  2016      AZE  Azerbaijan        Caucasus & Central Asia   \n",
       "8  2016      BHS     Bahamas  Latin America & the Caribbean   \n",
       "9  2016      BHR     Bahrain     Middle East & North Africa   \n",
       "\n",
       "   pf_rol_procedural  pf_rol_civil  pf_rol_criminal    pf_rol  pf_ss_homicide  \\\n",
       "0           6.661503      4.547244         4.666508  5.291752        8.920429   \n",
       "1                NaN           NaN              NaN  3.819566        9.456254   \n",
       "2                NaN           NaN              NaN  3.451814        8.060260   \n",
       "3           7.098483      5.791960         4.343930  5.744791        7.622974   \n",
       "4                NaN           NaN              NaN  5.003205        8.808750   \n",
       "5           8.439110      7.525648         7.364078  7.776279        9.623538   \n",
       "6           8.969832      7.872188         7.673227  8.171749        9.737912   \n",
       "7                NaN           NaN              NaN  4.270861        9.143499   \n",
       "8           6.930835      6.008696         6.262840  6.400790        0.000000   \n",
       "9                NaN           NaN              NaN  5.900339        9.790481   \n",
       "\n",
       "   pf_ss_disappearances_disap     ...       ef_regulation_business_bribes  \\\n",
       "0                        10.0     ...                            4.050196   \n",
       "1                        10.0     ...                            3.765515   \n",
       "2                         5.0     ...                            1.945540   \n",
       "3                        10.0     ...                            3.260044   \n",
       "4                        10.0     ...                            4.575152   \n",
       "5                        10.0     ...                            7.238900   \n",
       "6                        10.0     ...                            6.418890   \n",
       "7                        10.0     ...                            5.353533   \n",
       "8                        10.0     ...                                 NaN   \n",
       "9                        10.0     ...                            6.596745   \n",
       "\n",
       "   ef_regulation_business_licensing  ef_regulation_business_compliance  \\\n",
       "0                          7.324582                           7.074366   \n",
       "1                          8.523503                           7.029528   \n",
       "2                          8.096776                           6.782923   \n",
       "3                          5.253411                           6.508295   \n",
       "4                          9.319612                           6.491481   \n",
       "5                          8.944387                           8.823021   \n",
       "6                          7.296116                           8.531578   \n",
       "7                          6.959699                           7.814181   \n",
       "8                          7.981672                           7.388227   \n",
       "9                          8.074670                           9.680534   \n",
       "\n",
       "   ef_regulation_business  ef_regulation  ef_score  ef_rank  hf_score  \\\n",
       "0                6.705863       6.906901      7.54     34.0  7.568140   \n",
       "1                5.676956       5.268992      4.99    159.0  5.135886   \n",
       "2                4.930271       5.518500      5.17    155.0  5.640662   \n",
       "3                5.535831       5.369019      4.84    160.0  6.469848   \n",
       "4                6.797530       7.378069      7.57     29.0  7.241402   \n",
       "5                8.121631       8.465526      7.98     10.0  8.582219   \n",
       "6                7.419870       7.371334      7.58     27.0  8.413474   \n",
       "7                7.080078       6.874880      6.49    106.0  6.083277   \n",
       "8                7.523034       8.169125      7.34     49.0  7.397269   \n",
       "9                8.018774       7.415786      7.56     30.0  6.848035   \n",
       "\n",
       "   hf_rank  hf_quartile  \n",
       "0     48.0          2.0  \n",
       "1    155.0          4.0  \n",
       "2    142.0          4.0  \n",
       "3    107.0          3.0  \n",
       "4     57.0          2.0  \n",
       "5      4.0          1.0  \n",
       "6     16.0          1.0  \n",
       "7    130.0          4.0  \n",
       "8     50.0          2.0  \n",
       "9     75.0          2.0  \n",
       "\n",
       "[10 rows x 123 columns]"
      ]
     },
     "execution_count": 103,
     "metadata": {},
     "output_type": "execute_result"
    }
   ],
   "source": [
    "freedom_index.head(10)"
   ]
  },
  {
   "cell_type": "markdown",
   "metadata": {},
   "source": [
    "#### Cleaning the data"
   ]
  },
  {
   "cell_type": "code",
   "execution_count": 340,
   "metadata": {},
   "outputs": [
    {
     "name": "stdout",
     "output_type": "stream",
     "text": [
      "<class 'pandas.core.frame.DataFrame'>\n",
      "RangeIndex: 1458 entries, 0 to 1457\n",
      "Columns: 123 entries, year to hf_quartile\n",
      "dtypes: float64(119), int64(1), object(3)\n",
      "memory usage: 1.4+ MB\n"
     ]
    }
   ],
   "source": [
    "freedom_index.info()"
   ]
  },
  {
   "cell_type": "code",
   "execution_count": 363,
   "metadata": {},
   "outputs": [],
   "source": [
    "#looking to drop excess columns\n",
    "def keep_cols(DataFrame, keep_these):\n",
    "    \"\"\"Keep only the columns [keep_these] in a DataFrame, delete\n",
    "    all other columns. \n",
    "    \"\"\"\n",
    "    drop_these = list(set(list(DataFrame)) - set(keep_these))\n",
    "    return DataFrame.drop(drop_these, axis = 1)"
   ]
  },
  {
   "cell_type": "code",
   "execution_count": 388,
   "metadata": {},
   "outputs": [
    {
     "data": {
      "text/html": [
       "<div>\n",
       "<style scoped>\n",
       "    .dataframe tbody tr th:only-of-type {\n",
       "        vertical-align: middle;\n",
       "    }\n",
       "\n",
       "    .dataframe tbody tr th {\n",
       "        vertical-align: top;\n",
       "    }\n",
       "\n",
       "    .dataframe thead th {\n",
       "        text-align: right;\n",
       "    }\n",
       "</style>\n",
       "<table border=\"1\" class=\"dataframe\">\n",
       "  <thead>\n",
       "    <tr style=\"text-align: right;\">\n",
       "      <th></th>\n",
       "      <th>countries</th>\n",
       "      <th>region</th>\n",
       "      <th>pf_rol_procedural</th>\n",
       "      <th>pf_rol_civil</th>\n",
       "      <th>ef_regulation</th>\n",
       "      <th>ef_score</th>\n",
       "      <th>hf_score</th>\n",
       "    </tr>\n",
       "  </thead>\n",
       "  <tbody>\n",
       "    <tr>\n",
       "      <th>0</th>\n",
       "      <td>Albania</td>\n",
       "      <td>Eastern Europe</td>\n",
       "      <td>6.661503</td>\n",
       "      <td>4.547244</td>\n",
       "      <td>6.906901</td>\n",
       "      <td>7.54</td>\n",
       "      <td>7.568140</td>\n",
       "    </tr>\n",
       "    <tr>\n",
       "      <th>1</th>\n",
       "      <td>Algeria</td>\n",
       "      <td>Middle East &amp; North Africa</td>\n",
       "      <td>NaN</td>\n",
       "      <td>NaN</td>\n",
       "      <td>5.268992</td>\n",
       "      <td>4.99</td>\n",
       "      <td>5.135886</td>\n",
       "    </tr>\n",
       "    <tr>\n",
       "      <th>2</th>\n",
       "      <td>Angola</td>\n",
       "      <td>Sub-Saharan Africa</td>\n",
       "      <td>NaN</td>\n",
       "      <td>NaN</td>\n",
       "      <td>5.518500</td>\n",
       "      <td>5.17</td>\n",
       "      <td>5.640662</td>\n",
       "    </tr>\n",
       "    <tr>\n",
       "      <th>3</th>\n",
       "      <td>Argentina</td>\n",
       "      <td>Latin America &amp; the Caribbean</td>\n",
       "      <td>7.098483</td>\n",
       "      <td>5.791960</td>\n",
       "      <td>5.369019</td>\n",
       "      <td>4.84</td>\n",
       "      <td>6.469848</td>\n",
       "    </tr>\n",
       "    <tr>\n",
       "      <th>4</th>\n",
       "      <td>Armenia</td>\n",
       "      <td>Caucasus &amp; Central Asia</td>\n",
       "      <td>NaN</td>\n",
       "      <td>NaN</td>\n",
       "      <td>7.378069</td>\n",
       "      <td>7.57</td>\n",
       "      <td>7.241402</td>\n",
       "    </tr>\n",
       "  </tbody>\n",
       "</table>\n",
       "</div>"
      ],
      "text/plain": [
       "   countries                         region  pf_rol_procedural  pf_rol_civil  \\\n",
       "0    Albania                 Eastern Europe           6.661503      4.547244   \n",
       "1    Algeria     Middle East & North Africa                NaN           NaN   \n",
       "2     Angola             Sub-Saharan Africa                NaN           NaN   \n",
       "3  Argentina  Latin America & the Caribbean           7.098483      5.791960   \n",
       "4    Armenia        Caucasus & Central Asia                NaN           NaN   \n",
       "\n",
       "   ef_regulation  ef_score  hf_score  \n",
       "0       6.906901      7.54  7.568140  \n",
       "1       5.268992      4.99  5.135886  \n",
       "2       5.518500      5.17  5.640662  \n",
       "3       5.369019      4.84  6.469848  \n",
       "4       7.378069      7.57  7.241402  "
      ]
     },
     "execution_count": 388,
     "metadata": {},
     "output_type": "execute_result"
    }
   ],
   "source": [
    "freedom_index2 = keep_cols(freedom_index, ['countries', 'region', 'pf_rol_procedural', 'pf_rol_civil', 'pf_rol_crimina', 'ef_regulation', 'ef_score', 'hf_score'])\n",
    "freedom_index2.head()                            \n",
    "                                           "
   ]
  },
  {
   "cell_type": "code",
   "execution_count": 371,
   "metadata": {},
   "outputs": [
    {
     "data": {
      "text/plain": [
       "countries              0\n",
       "region                 0\n",
       "pf_rol_procedural    578\n",
       "pf_rol_civil         578\n",
       "ef_regulation         80\n",
       "ef_score              80\n",
       "hf_score              80\n",
       "dtype: int64"
      ]
     },
     "execution_count": 371,
     "metadata": {},
     "output_type": "execute_result"
    }
   ],
   "source": [
    "#looking for missing data\n",
    "freedom_index2.isna().sum()"
   ]
  },
  {
   "cell_type": "code",
   "execution_count": 369,
   "metadata": {},
   "outputs": [
    {
     "data": {
      "text/html": [
       "<div>\n",
       "<style scoped>\n",
       "    .dataframe tbody tr th:only-of-type {\n",
       "        vertical-align: middle;\n",
       "    }\n",
       "\n",
       "    .dataframe tbody tr th {\n",
       "        vertical-align: top;\n",
       "    }\n",
       "\n",
       "    .dataframe thead th {\n",
       "        text-align: right;\n",
       "    }\n",
       "</style>\n",
       "<table border=\"1\" class=\"dataframe\">\n",
       "  <thead>\n",
       "    <tr style=\"text-align: right;\">\n",
       "      <th></th>\n",
       "      <th>pf_rol_procedural</th>\n",
       "      <th>pf_rol_civil</th>\n",
       "      <th>ef_regulation</th>\n",
       "      <th>ef_score</th>\n",
       "      <th>hf_score</th>\n",
       "    </tr>\n",
       "  </thead>\n",
       "  <tbody>\n",
       "    <tr>\n",
       "      <th>pf_rol_procedural</th>\n",
       "      <td>1.000000</td>\n",
       "      <td>0.811917</td>\n",
       "      <td>0.499065</td>\n",
       "      <td>0.639696</td>\n",
       "      <td>0.874613</td>\n",
       "    </tr>\n",
       "    <tr>\n",
       "      <th>pf_rol_civil</th>\n",
       "      <td>0.811917</td>\n",
       "      <td>1.000000</td>\n",
       "      <td>0.486242</td>\n",
       "      <td>0.575521</td>\n",
       "      <td>0.721108</td>\n",
       "    </tr>\n",
       "    <tr>\n",
       "      <th>ef_regulation</th>\n",
       "      <td>0.499065</td>\n",
       "      <td>0.486242</td>\n",
       "      <td>1.000000</td>\n",
       "      <td>0.797549</td>\n",
       "      <td>0.669287</td>\n",
       "    </tr>\n",
       "    <tr>\n",
       "      <th>ef_score</th>\n",
       "      <td>0.639696</td>\n",
       "      <td>0.575521</td>\n",
       "      <td>0.797549</td>\n",
       "      <td>1.000000</td>\n",
       "      <td>0.854865</td>\n",
       "    </tr>\n",
       "    <tr>\n",
       "      <th>hf_score</th>\n",
       "      <td>0.874613</td>\n",
       "      <td>0.721108</td>\n",
       "      <td>0.669287</td>\n",
       "      <td>0.854865</td>\n",
       "      <td>1.000000</td>\n",
       "    </tr>\n",
       "  </tbody>\n",
       "</table>\n",
       "</div>"
      ],
      "text/plain": [
       "                   pf_rol_procedural  pf_rol_civil  ef_regulation  ef_score  \\\n",
       "pf_rol_procedural           1.000000      0.811917       0.499065  0.639696   \n",
       "pf_rol_civil                0.811917      1.000000       0.486242  0.575521   \n",
       "ef_regulation               0.499065      0.486242       1.000000  0.797549   \n",
       "ef_score                    0.639696      0.575521       0.797549  1.000000   \n",
       "hf_score                    0.874613      0.721108       0.669287  0.854865   \n",
       "\n",
       "                   hf_score  \n",
       "pf_rol_procedural  0.874613  \n",
       "pf_rol_civil       0.721108  \n",
       "ef_regulation      0.669287  \n",
       "ef_score           0.854865  \n",
       "hf_score           1.000000  "
      ]
     },
     "execution_count": 369,
     "metadata": {},
     "output_type": "execute_result"
    }
   ],
   "source": [
    "#there is some strong correlation between the measures so we could predict the missing values but first lets see if they are missing systematically by region\n",
    "freedom_index2.corr()"
   ]
  },
  {
   "cell_type": "code",
   "execution_count": 389,
   "metadata": {},
   "outputs": [
    {
     "data": {
      "text/html": [
       "<div>\n",
       "<style scoped>\n",
       "    .dataframe tbody tr th:only-of-type {\n",
       "        vertical-align: middle;\n",
       "    }\n",
       "\n",
       "    .dataframe tbody tr th {\n",
       "        vertical-align: top;\n",
       "    }\n",
       "\n",
       "    .dataframe thead th {\n",
       "        text-align: right;\n",
       "    }\n",
       "</style>\n",
       "<table border=\"1\" class=\"dataframe\">\n",
       "  <thead>\n",
       "    <tr style=\"text-align: right;\">\n",
       "      <th></th>\n",
       "      <th>ef_score</th>\n",
       "      <th>hf_score</th>\n",
       "      <th>ef_regulation</th>\n",
       "      <th>pf_rol_civil</th>\n",
       "      <th>pf_rol_procedural</th>\n",
       "    </tr>\n",
       "    <tr>\n",
       "      <th>region</th>\n",
       "      <th></th>\n",
       "      <th></th>\n",
       "      <th></th>\n",
       "      <th></th>\n",
       "      <th></th>\n",
       "    </tr>\n",
       "  </thead>\n",
       "  <tbody>\n",
       "    <tr>\n",
       "      <th>Caucasus &amp; Central Asia</th>\n",
       "      <td>2.0</td>\n",
       "      <td>2.0</td>\n",
       "      <td>2.0</td>\n",
       "      <td>27.0</td>\n",
       "      <td>27.0</td>\n",
       "    </tr>\n",
       "    <tr>\n",
       "      <th>East Asia</th>\n",
       "      <td>0.0</td>\n",
       "      <td>0.0</td>\n",
       "      <td>0.0</td>\n",
       "      <td>9.0</td>\n",
       "      <td>9.0</td>\n",
       "    </tr>\n",
       "    <tr>\n",
       "      <th>Eastern Europe</th>\n",
       "      <td>8.0</td>\n",
       "      <td>8.0</td>\n",
       "      <td>8.0</td>\n",
       "      <td>53.0</td>\n",
       "      <td>53.0</td>\n",
       "    </tr>\n",
       "    <tr>\n",
       "      <th>Latin America &amp; the Caribbean</th>\n",
       "      <td>2.0</td>\n",
       "      <td>2.0</td>\n",
       "      <td>2.0</td>\n",
       "      <td>71.0</td>\n",
       "      <td>71.0</td>\n",
       "    </tr>\n",
       "    <tr>\n",
       "      <th>Middle East &amp; North Africa</th>\n",
       "      <td>21.0</td>\n",
       "      <td>21.0</td>\n",
       "      <td>21.0</td>\n",
       "      <td>95.0</td>\n",
       "      <td>95.0</td>\n",
       "    </tr>\n",
       "    <tr>\n",
       "      <th>North America</th>\n",
       "      <td>0.0</td>\n",
       "      <td>0.0</td>\n",
       "      <td>0.0</td>\n",
       "      <td>0.0</td>\n",
       "      <td>0.0</td>\n",
       "    </tr>\n",
       "    <tr>\n",
       "      <th>Oceania</th>\n",
       "      <td>0.0</td>\n",
       "      <td>0.0</td>\n",
       "      <td>0.0</td>\n",
       "      <td>18.0</td>\n",
       "      <td>18.0</td>\n",
       "    </tr>\n",
       "    <tr>\n",
       "      <th>South Asia</th>\n",
       "      <td>17.0</td>\n",
       "      <td>17.0</td>\n",
       "      <td>17.0</td>\n",
       "      <td>42.0</td>\n",
       "      <td>42.0</td>\n",
       "    </tr>\n",
       "    <tr>\n",
       "      <th>Sub-Saharan Africa</th>\n",
       "      <td>30.0</td>\n",
       "      <td>30.0</td>\n",
       "      <td>30.0</td>\n",
       "      <td>218.0</td>\n",
       "      <td>218.0</td>\n",
       "    </tr>\n",
       "    <tr>\n",
       "      <th>Western Europe</th>\n",
       "      <td>0.0</td>\n",
       "      <td>0.0</td>\n",
       "      <td>0.0</td>\n",
       "      <td>45.0</td>\n",
       "      <td>45.0</td>\n",
       "    </tr>\n",
       "  </tbody>\n",
       "</table>\n",
       "</div>"
      ],
      "text/plain": [
       "                               ef_score  hf_score  ef_regulation  \\\n",
       "region                                                             \n",
       "Caucasus & Central Asia             2.0       2.0            2.0   \n",
       "East Asia                           0.0       0.0            0.0   \n",
       "Eastern Europe                      8.0       8.0            8.0   \n",
       "Latin America & the Caribbean       2.0       2.0            2.0   \n",
       "Middle East & North Africa         21.0      21.0           21.0   \n",
       "North America                       0.0       0.0            0.0   \n",
       "Oceania                             0.0       0.0            0.0   \n",
       "South Asia                         17.0      17.0           17.0   \n",
       "Sub-Saharan Africa                 30.0      30.0           30.0   \n",
       "Western Europe                      0.0       0.0            0.0   \n",
       "\n",
       "                               pf_rol_civil  pf_rol_procedural  \n",
       "region                                                          \n",
       "Caucasus & Central Asia                27.0               27.0  \n",
       "East Asia                               9.0                9.0  \n",
       "Eastern Europe                         53.0               53.0  \n",
       "Latin America & the Caribbean          71.0               71.0  \n",
       "Middle East & North Africa             95.0               95.0  \n",
       "North America                           0.0                0.0  \n",
       "Oceania                                18.0               18.0  \n",
       "South Asia                             42.0               42.0  \n",
       "Sub-Saharan Africa                    218.0              218.0  \n",
       "Western Europe                         45.0               45.0  "
      ]
     },
     "execution_count": 389,
     "metadata": {},
     "output_type": "execute_result"
    }
   ],
   "source": [
    "#shows that most missing values are from Africa and Asia, with majority of that from Sub-Saharan Africa\n",
    "freedom_missing_analysis = freedom_index2.isna()\n",
    "freedom_missing_analysis = keep_cols(freedom_missing_analysis, ['ef_score', 'hf_score', 'ef_regulation', 'pf_rol_civil', 'pf_rol_procedural'])\n",
    "freedom_missing_analysis = pd.concat([freedom_missing_analysis, freedom_index2['region']], axis=1, sort=False)\n",
    "freedom_missing_analysis.groupby(['region'])['ef_score', 'hf_score', 'ef_regulation', 'pf_rol_civil', 'pf_rol_procedural'].sum()"
   ]
  },
  {
   "cell_type": "code",
   "execution_count": 398,
   "metadata": {},
   "outputs": [
    {
     "data": {
      "text/html": [
       "<div>\n",
       "<style scoped>\n",
       "    .dataframe tbody tr th:only-of-type {\n",
       "        vertical-align: middle;\n",
       "    }\n",
       "\n",
       "    .dataframe tbody tr th {\n",
       "        vertical-align: top;\n",
       "    }\n",
       "\n",
       "    .dataframe thead th {\n",
       "        text-align: right;\n",
       "    }\n",
       "</style>\n",
       "<table border=\"1\" class=\"dataframe\">\n",
       "  <thead>\n",
       "    <tr style=\"text-align: right;\">\n",
       "      <th></th>\n",
       "      <th>ef_score</th>\n",
       "      <th>hf_score</th>\n",
       "      <th>ef_regulation</th>\n",
       "      <th>pf_rol_civil</th>\n",
       "      <th>pf_rol_procedural</th>\n",
       "    </tr>\n",
       "    <tr>\n",
       "      <th>region</th>\n",
       "      <th></th>\n",
       "      <th></th>\n",
       "      <th></th>\n",
       "      <th></th>\n",
       "      <th></th>\n",
       "    </tr>\n",
       "  </thead>\n",
       "  <tbody>\n",
       "    <tr>\n",
       "      <th>Caucasus &amp; Central Asia</th>\n",
       "      <td>0.0</td>\n",
       "      <td>0.0</td>\n",
       "      <td>0.0</td>\n",
       "      <td>25.0</td>\n",
       "      <td>25.0</td>\n",
       "    </tr>\n",
       "    <tr>\n",
       "      <th>East Asia</th>\n",
       "      <td>0.0</td>\n",
       "      <td>0.0</td>\n",
       "      <td>0.0</td>\n",
       "      <td>9.0</td>\n",
       "      <td>9.0</td>\n",
       "    </tr>\n",
       "    <tr>\n",
       "      <th>Eastern Europe</th>\n",
       "      <td>0.0</td>\n",
       "      <td>0.0</td>\n",
       "      <td>0.0</td>\n",
       "      <td>45.0</td>\n",
       "      <td>45.0</td>\n",
       "    </tr>\n",
       "    <tr>\n",
       "      <th>Latin America &amp; the Caribbean</th>\n",
       "      <td>0.0</td>\n",
       "      <td>0.0</td>\n",
       "      <td>0.0</td>\n",
       "      <td>69.0</td>\n",
       "      <td>69.0</td>\n",
       "    </tr>\n",
       "    <tr>\n",
       "      <th>Middle East &amp; North Africa</th>\n",
       "      <td>0.0</td>\n",
       "      <td>0.0</td>\n",
       "      <td>0.0</td>\n",
       "      <td>74.0</td>\n",
       "      <td>74.0</td>\n",
       "    </tr>\n",
       "    <tr>\n",
       "      <th>North America</th>\n",
       "      <td>0.0</td>\n",
       "      <td>0.0</td>\n",
       "      <td>0.0</td>\n",
       "      <td>0.0</td>\n",
       "      <td>0.0</td>\n",
       "    </tr>\n",
       "    <tr>\n",
       "      <th>Oceania</th>\n",
       "      <td>0.0</td>\n",
       "      <td>0.0</td>\n",
       "      <td>0.0</td>\n",
       "      <td>18.0</td>\n",
       "      <td>18.0</td>\n",
       "    </tr>\n",
       "    <tr>\n",
       "      <th>South Asia</th>\n",
       "      <td>0.0</td>\n",
       "      <td>0.0</td>\n",
       "      <td>0.0</td>\n",
       "      <td>25.0</td>\n",
       "      <td>25.0</td>\n",
       "    </tr>\n",
       "    <tr>\n",
       "      <th>Sub-Saharan Africa</th>\n",
       "      <td>0.0</td>\n",
       "      <td>0.0</td>\n",
       "      <td>0.0</td>\n",
       "      <td>188.0</td>\n",
       "      <td>188.0</td>\n",
       "    </tr>\n",
       "    <tr>\n",
       "      <th>Western Europe</th>\n",
       "      <td>0.0</td>\n",
       "      <td>0.0</td>\n",
       "      <td>0.0</td>\n",
       "      <td>45.0</td>\n",
       "      <td>45.0</td>\n",
       "    </tr>\n",
       "  </tbody>\n",
       "</table>\n",
       "</div>"
      ],
      "text/plain": [
       "                               ef_score  hf_score  ef_regulation  \\\n",
       "region                                                             \n",
       "Caucasus & Central Asia             0.0       0.0            0.0   \n",
       "East Asia                           0.0       0.0            0.0   \n",
       "Eastern Europe                      0.0       0.0            0.0   \n",
       "Latin America & the Caribbean       0.0       0.0            0.0   \n",
       "Middle East & North Africa          0.0       0.0            0.0   \n",
       "North America                       0.0       0.0            0.0   \n",
       "Oceania                             0.0       0.0            0.0   \n",
       "South Asia                          0.0       0.0            0.0   \n",
       "Sub-Saharan Africa                  0.0       0.0            0.0   \n",
       "Western Europe                      0.0       0.0            0.0   \n",
       "\n",
       "                               pf_rol_civil  pf_rol_procedural  \n",
       "region                                                          \n",
       "Caucasus & Central Asia                25.0               25.0  \n",
       "East Asia                               9.0                9.0  \n",
       "Eastern Europe                         45.0               45.0  \n",
       "Latin America & the Caribbean          69.0               69.0  \n",
       "Middle East & North Africa             74.0               74.0  \n",
       "North America                           0.0                0.0  \n",
       "Oceania                                18.0               18.0  \n",
       "South Asia                             25.0               25.0  \n",
       "Sub-Saharan Africa                    188.0              188.0  \n",
       "Western Europe                         45.0               45.0  "
      ]
     },
     "execution_count": 398,
     "metadata": {},
     "output_type": "execute_result"
    }
   ],
   "source": [
    "#looking at the data showed that if the ef_score or hf_score is missing then all the data for that observation is missing so I will drop those\n",
    "freedom_index3 = freedom_index2[np.isfinite(freedom_index2['ef_score'])]\n",
    "#perform analysis again\n",
    "freedom_missing_analysis = freedom_index3.isna()\n",
    "freedom_missing_analysis = keep_cols(freedom_missing_analysis, ['ef_score', 'hf_score', 'ef_regulation', 'pf_rol_civil', 'pf_rol_procedural'])\n",
    "freedom_missing_analysis = pd.concat([freedom_missing_analysis, freedom_index3['region']], axis=1, sort=False)\n",
    "freedom_missing_analysis.groupby(['region'])['ef_score', 'hf_score', 'ef_regulation', 'pf_rol_civil', 'pf_rol_procedural'].sum()"
   ]
  },
  {
   "cell_type": "markdown",
   "metadata": {},
   "source": [
    "I know this could be an ideal situation for using prediction to fill in the missing values for civil and procedural ranking but for the sake of time since I have spent about 15 hours on this already I will simply drop the additional missing values. If I was actually going to run some tests, this would be a problem as there appears to be a systematic missing of the values by region. "
   ]
  },
  {
   "cell_type": "code",
   "execution_count": 401,
   "metadata": {},
   "outputs": [],
   "source": [
    "#drop the remaining missing values\n",
    "freedom_index4 = freedom_index3.dropna()\n"
   ]
  },
  {
   "cell_type": "markdown",
   "metadata": {},
   "source": [
    "#### Describing the data"
   ]
  },
  {
   "cell_type": "code",
   "execution_count": 402,
   "metadata": {},
   "outputs": [
    {
     "data": {
      "text/plain": [
       "Latin America & the Caribbean    163\n",
       "Sub-Saharan Africa               160\n",
       "Eastern Europe                   145\n",
       "Western Europe                   117\n",
       "South Asia                       111\n",
       "Middle East & North Africa        76\n",
       "East Asia                         45\n",
       "Caucasus & Central Asia           27\n",
       "North America                     18\n",
       "Oceania                           18\n",
       "Name: region, dtype: int64"
      ]
     },
     "execution_count": 402,
     "metadata": {},
     "output_type": "execute_result"
    }
   ],
   "source": [
    "freedom_index4['region'].value_counts()"
   ]
  },
  {
   "cell_type": "code",
   "execution_count": 403,
   "metadata": {},
   "outputs": [
    {
     "data": {
      "text/html": [
       "<div>\n",
       "<style scoped>\n",
       "    .dataframe tbody tr th:only-of-type {\n",
       "        vertical-align: middle;\n",
       "    }\n",
       "\n",
       "    .dataframe tbody tr th {\n",
       "        vertical-align: top;\n",
       "    }\n",
       "\n",
       "    .dataframe thead th {\n",
       "        text-align: right;\n",
       "    }\n",
       "</style>\n",
       "<table border=\"1\" class=\"dataframe\">\n",
       "  <thead>\n",
       "    <tr style=\"text-align: right;\">\n",
       "      <th></th>\n",
       "      <th>pf_rol_procedural</th>\n",
       "      <th>pf_rol_civil</th>\n",
       "      <th>ef_regulation</th>\n",
       "      <th>ef_score</th>\n",
       "      <th>hf_score</th>\n",
       "    </tr>\n",
       "  </thead>\n",
       "  <tbody>\n",
       "    <tr>\n",
       "      <th>count</th>\n",
       "      <td>880.000000</td>\n",
       "      <td>880.000000</td>\n",
       "      <td>880.000000</td>\n",
       "      <td>880.000000</td>\n",
       "      <td>880.000000</td>\n",
       "    </tr>\n",
       "    <tr>\n",
       "      <th>mean</th>\n",
       "      <td>5.589355</td>\n",
       "      <td>5.474770</td>\n",
       "      <td>7.029575</td>\n",
       "      <td>6.912034</td>\n",
       "      <td>7.156146</td>\n",
       "    </tr>\n",
       "    <tr>\n",
       "      <th>std</th>\n",
       "      <td>2.080957</td>\n",
       "      <td>1.428494</td>\n",
       "      <td>1.012731</td>\n",
       "      <td>0.815263</td>\n",
       "      <td>0.950261</td>\n",
       "    </tr>\n",
       "    <tr>\n",
       "      <th>min</th>\n",
       "      <td>0.000000</td>\n",
       "      <td>0.000000</td>\n",
       "      <td>2.483540</td>\n",
       "      <td>2.880000</td>\n",
       "      <td>4.200724</td>\n",
       "    </tr>\n",
       "    <tr>\n",
       "      <th>25%</th>\n",
       "      <td>4.133333</td>\n",
       "      <td>4.549550</td>\n",
       "      <td>6.437246</td>\n",
       "      <td>6.390000</td>\n",
       "      <td>6.554292</td>\n",
       "    </tr>\n",
       "    <tr>\n",
       "      <th>50%</th>\n",
       "      <td>5.300000</td>\n",
       "      <td>5.300000</td>\n",
       "      <td>7.067094</td>\n",
       "      <td>7.020000</td>\n",
       "      <td>7.045297</td>\n",
       "    </tr>\n",
       "    <tr>\n",
       "      <th>75%</th>\n",
       "      <td>7.389499</td>\n",
       "      <td>6.410975</td>\n",
       "      <td>7.718077</td>\n",
       "      <td>7.440000</td>\n",
       "      <td>8.008114</td>\n",
       "    </tr>\n",
       "    <tr>\n",
       "      <th>max</th>\n",
       "      <td>9.700000</td>\n",
       "      <td>8.773533</td>\n",
       "      <td>9.439828</td>\n",
       "      <td>9.190000</td>\n",
       "      <td>9.126313</td>\n",
       "    </tr>\n",
       "  </tbody>\n",
       "</table>\n",
       "</div>"
      ],
      "text/plain": [
       "       pf_rol_procedural  pf_rol_civil  ef_regulation    ef_score    hf_score\n",
       "count         880.000000    880.000000     880.000000  880.000000  880.000000\n",
       "mean            5.589355      5.474770       7.029575    6.912034    7.156146\n",
       "std             2.080957      1.428494       1.012731    0.815263    0.950261\n",
       "min             0.000000      0.000000       2.483540    2.880000    4.200724\n",
       "25%             4.133333      4.549550       6.437246    6.390000    6.554292\n",
       "50%             5.300000      5.300000       7.067094    7.020000    7.045297\n",
       "75%             7.389499      6.410975       7.718077    7.440000    8.008114\n",
       "max             9.700000      8.773533       9.439828    9.190000    9.126313"
      ]
     },
     "execution_count": 403,
     "metadata": {},
     "output_type": "execute_result"
    }
   ],
   "source": [
    "freedom_index4.describe()"
   ]
  },
  {
   "cell_type": "code",
   "execution_count": 404,
   "metadata": {},
   "outputs": [
    {
     "data": {
      "text/html": [
       "<div>\n",
       "<style scoped>\n",
       "    .dataframe tbody tr th:only-of-type {\n",
       "        vertical-align: middle;\n",
       "    }\n",
       "\n",
       "    .dataframe tbody tr th {\n",
       "        vertical-align: top;\n",
       "    }\n",
       "\n",
       "    .dataframe thead th {\n",
       "        text-align: right;\n",
       "    }\n",
       "</style>\n",
       "<table border=\"1\" class=\"dataframe\">\n",
       "  <thead>\n",
       "    <tr style=\"text-align: right;\">\n",
       "      <th></th>\n",
       "      <th>ef_score</th>\n",
       "      <th>hf_score</th>\n",
       "    </tr>\n",
       "    <tr>\n",
       "      <th>region</th>\n",
       "      <th></th>\n",
       "      <th></th>\n",
       "    </tr>\n",
       "  </thead>\n",
       "  <tbody>\n",
       "    <tr>\n",
       "      <th>Caucasus &amp; Central Asia</th>\n",
       "      <td>7.212593</td>\n",
       "      <td>7.039625</td>\n",
       "    </tr>\n",
       "    <tr>\n",
       "      <th>East Asia</th>\n",
       "      <td>7.505778</td>\n",
       "      <td>7.748487</td>\n",
       "    </tr>\n",
       "    <tr>\n",
       "      <th>Eastern Europe</th>\n",
       "      <td>6.994483</td>\n",
       "      <td>7.563180</td>\n",
       "    </tr>\n",
       "    <tr>\n",
       "      <th>Latin America &amp; the Caribbean</th>\n",
       "      <td>6.698528</td>\n",
       "      <td>7.025885</td>\n",
       "    </tr>\n",
       "    <tr>\n",
       "      <th>Middle East &amp; North Africa</th>\n",
       "      <td>6.702105</td>\n",
       "      <td>6.228316</td>\n",
       "    </tr>\n",
       "    <tr>\n",
       "      <th>North America</th>\n",
       "      <td>7.956667</td>\n",
       "      <td>8.461915</td>\n",
       "    </tr>\n",
       "    <tr>\n",
       "      <th>Oceania</th>\n",
       "      <td>8.208333</td>\n",
       "      <td>8.735377</td>\n",
       "    </tr>\n",
       "    <tr>\n",
       "      <th>South Asia</th>\n",
       "      <td>6.714505</td>\n",
       "      <td>6.594615</td>\n",
       "    </tr>\n",
       "    <tr>\n",
       "      <th>Sub-Saharan Africa</th>\n",
       "      <td>6.348313</td>\n",
       "      <td>6.406842</td>\n",
       "    </tr>\n",
       "    <tr>\n",
       "      <th>Western Europe</th>\n",
       "      <td>7.544103</td>\n",
       "      <td>8.348516</td>\n",
       "    </tr>\n",
       "  </tbody>\n",
       "</table>\n",
       "</div>"
      ],
      "text/plain": [
       "                               ef_score  hf_score\n",
       "region                                           \n",
       "Caucasus & Central Asia        7.212593  7.039625\n",
       "East Asia                      7.505778  7.748487\n",
       "Eastern Europe                 6.994483  7.563180\n",
       "Latin America & the Caribbean  6.698528  7.025885\n",
       "Middle East & North Africa     6.702105  6.228316\n",
       "North America                  7.956667  8.461915\n",
       "Oceania                        8.208333  8.735377\n",
       "South Asia                     6.714505  6.594615\n",
       "Sub-Saharan Africa             6.348313  6.406842\n",
       "Western Europe                 7.544103  8.348516"
      ]
     },
     "execution_count": 404,
     "metadata": {},
     "output_type": "execute_result"
    }
   ],
   "source": [
    "freedom_index4.groupby(['region'])['ef_score', 'hf_score'].mean()"
   ]
  },
  {
   "cell_type": "code",
   "execution_count": 405,
   "metadata": {},
   "outputs": [
    {
     "name": "stdout",
     "output_type": "stream",
     "text": [
      "<class 'pandas.core.frame.DataFrame'>\n",
      "Int64Index: 880 entries, 0 to 1457\n",
      "Data columns (total 7 columns):\n",
      "countries            880 non-null object\n",
      "region               880 non-null object\n",
      "pf_rol_procedural    880 non-null float64\n",
      "pf_rol_civil         880 non-null float64\n",
      "ef_regulation        880 non-null float64\n",
      "ef_score             880 non-null float64\n",
      "hf_score             880 non-null float64\n",
      "dtypes: float64(5), object(2)\n",
      "memory usage: 55.0+ KB\n"
     ]
    }
   ],
   "source": [
    "freedom_index4.info()"
   ]
  },
  {
   "cell_type": "code",
   "execution_count": 408,
   "metadata": {},
   "outputs": [
    {
     "data": {
      "text/html": [
       "<div>\n",
       "<style scoped>\n",
       "    .dataframe tbody tr th:only-of-type {\n",
       "        vertical-align: middle;\n",
       "    }\n",
       "\n",
       "    .dataframe tbody tr th {\n",
       "        vertical-align: top;\n",
       "    }\n",
       "\n",
       "    .dataframe thead th {\n",
       "        text-align: right;\n",
       "    }\n",
       "</style>\n",
       "<table border=\"1\" class=\"dataframe\">\n",
       "  <thead>\n",
       "    <tr style=\"text-align: right;\">\n",
       "      <th></th>\n",
       "      <th>Caucasus &amp; Central Asia</th>\n",
       "      <th>East Asia</th>\n",
       "      <th>Eastern Europe</th>\n",
       "      <th>Latin America &amp; the Caribbean</th>\n",
       "      <th>Middle East &amp; North Africa</th>\n",
       "      <th>North America</th>\n",
       "      <th>Oceania</th>\n",
       "      <th>South Asia</th>\n",
       "      <th>Sub-Saharan Africa</th>\n",
       "      <th>Western Europe</th>\n",
       "    </tr>\n",
       "  </thead>\n",
       "  <tbody>\n",
       "    <tr>\n",
       "      <th>0</th>\n",
       "      <td>0</td>\n",
       "      <td>0</td>\n",
       "      <td>1</td>\n",
       "      <td>0</td>\n",
       "      <td>0</td>\n",
       "      <td>0</td>\n",
       "      <td>0</td>\n",
       "      <td>0</td>\n",
       "      <td>0</td>\n",
       "      <td>0</td>\n",
       "    </tr>\n",
       "    <tr>\n",
       "      <th>3</th>\n",
       "      <td>0</td>\n",
       "      <td>0</td>\n",
       "      <td>0</td>\n",
       "      <td>1</td>\n",
       "      <td>0</td>\n",
       "      <td>0</td>\n",
       "      <td>0</td>\n",
       "      <td>0</td>\n",
       "      <td>0</td>\n",
       "      <td>0</td>\n",
       "    </tr>\n",
       "    <tr>\n",
       "      <th>5</th>\n",
       "      <td>0</td>\n",
       "      <td>0</td>\n",
       "      <td>0</td>\n",
       "      <td>0</td>\n",
       "      <td>0</td>\n",
       "      <td>0</td>\n",
       "      <td>1</td>\n",
       "      <td>0</td>\n",
       "      <td>0</td>\n",
       "      <td>0</td>\n",
       "    </tr>\n",
       "    <tr>\n",
       "      <th>6</th>\n",
       "      <td>0</td>\n",
       "      <td>0</td>\n",
       "      <td>0</td>\n",
       "      <td>0</td>\n",
       "      <td>0</td>\n",
       "      <td>0</td>\n",
       "      <td>0</td>\n",
       "      <td>0</td>\n",
       "      <td>0</td>\n",
       "      <td>1</td>\n",
       "    </tr>\n",
       "    <tr>\n",
       "      <th>8</th>\n",
       "      <td>0</td>\n",
       "      <td>0</td>\n",
       "      <td>0</td>\n",
       "      <td>1</td>\n",
       "      <td>0</td>\n",
       "      <td>0</td>\n",
       "      <td>0</td>\n",
       "      <td>0</td>\n",
       "      <td>0</td>\n",
       "      <td>0</td>\n",
       "    </tr>\n",
       "  </tbody>\n",
       "</table>\n",
       "</div>"
      ],
      "text/plain": [
       "   Caucasus & Central Asia  East Asia  Eastern Europe  \\\n",
       "0                        0          0               1   \n",
       "3                        0          0               0   \n",
       "5                        0          0               0   \n",
       "6                        0          0               0   \n",
       "8                        0          0               0   \n",
       "\n",
       "   Latin America & the Caribbean  Middle East & North Africa  North America  \\\n",
       "0                              0                           0              0   \n",
       "3                              1                           0              0   \n",
       "5                              0                           0              0   \n",
       "6                              0                           0              0   \n",
       "8                              1                           0              0   \n",
       "\n",
       "   Oceania  South Asia  Sub-Saharan Africa  Western Europe  \n",
       "0        0           0                   0               0  \n",
       "3        0           0                   0               0  \n",
       "5        1           0                   0               0  \n",
       "6        0           0                   0               1  \n",
       "8        0           0                   0               0  "
      ]
     },
     "execution_count": 408,
     "metadata": {},
     "output_type": "execute_result"
    }
   ],
   "source": [
    "#could concatenate these dummies onto the end of our dataset if running a regression to control for region FE\n",
    "freedom_dummies = pd.get_dummies(freedom_index4['region'])\n",
    "freedom_dummies.head()"
   ]
  },
  {
   "cell_type": "markdown",
   "metadata": {},
   "source": [
    "#### Visualizing the data"
   ]
  },
  {
   "cell_type": "code",
   "execution_count": 446,
   "metadata": {},
   "outputs": [
    {
     "data": {
      "text/plain": [
       "<seaborn.axisgrid.FacetGrid at 0x1a209252b0>"
      ]
     },
     "execution_count": 446,
     "metadata": {},
     "output_type": "execute_result"
    },
    {
     "data": {
      "image/png": "[encoded data removed]",
      "text/plain": [
       "<Figure size 360x360 with 1 Axes>"
      ]
     },
     "metadata": {
      "needs_background": "light"
     },
     "output_type": "display_data"
    }
   ],
   "source": [
    "#this evidences the strong correlation shown earlier\n",
    "scatter_pop = sns.lmplot(x=\"ef_regulation\", y=\"ef_score\", data=freedom_index4)\n",
    "scatter_pop.set(ylabel='EF Score', xlabel='EF Regulation Ranking', title=\"EF Score v. Regulation Ranking\")"
   ]
  },
  {
   "cell_type": "code",
   "execution_count": 442,
   "metadata": {},
   "outputs": [
    {
     "data": {
      "text/plain": [
       "Text(0.5, 1.0, 'Regulation Rankings by Region')"
      ]
     },
     "execution_count": 442,
     "metadata": {},
     "output_type": "execute_result"
    },
    {
     "data": {
      "image/png": "[encoded data removed]",
      "text/plain": [
       "<Figure size 432x288 with 1 Axes>"
      ]
     },
     "metadata": {
      "needs_background": "light"
     },
     "output_type": "display_data"
    }
   ],
   "source": [
    "g=sns.barplot(freedom_index4.region, freedom_index4['ef_regulation'])\n",
    "g.set_xticklabels(labels= freedom_index4['region'], rotation=90)\n",
    "g.set_title(\"Regulation Rankings by Region\")\n"
   ]
  },
  {
   "cell_type": "code",
   "execution_count": null,
   "metadata": {},
   "outputs": [],
   "source": []
  }
 ],
 "metadata": {
  "kernelspec": {
   "display_name": "Python 3",
   "language": "python",
   "name": "python3"
  },
  "language_info": {
   "codemirror_mode": {
    "name": "ipython",
    "version": 3
   },
   "file_extension": ".py",
   "mimetype": "text/x-python",
   "name": "python",
   "nbconvert_exporter": "python",
   "pygments_lexer": "ipython3",
   "version": "3.7.1"
  }
 },
 "nbformat": 4,
 "nbformat_minor": 2
}
